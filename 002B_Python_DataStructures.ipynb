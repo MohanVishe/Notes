{
  "nbformat": 4,
  "nbformat_minor": 0,
  "metadata": {
    "colab": {
      "provenance": [],
      "authorship_tag": "ABX9TyN08MP+1DH8xu6k/KtW5nmW",
      "include_colab_link": true
    },
    "kernelspec": {
      "name": "python3",
      "display_name": "Python 3"
    },
    "language_info": {
      "name": "python"
    }
  },
  "cells": [
    {
      "cell_type": "markdown",
      "metadata": {
        "id": "view-in-github",
        "colab_type": "text"
      },
      "source": [
        "<a href=\"https://colab.research.google.com/github/MohanVishe/Notes/blob/main/002B_Python_DataStructures.ipynb\" target=\"_parent\"><img src=\"https://colab.research.google.com/assets/colab-badge.svg\" alt=\"Open In Colab\"/></a>"
      ]
    },
    {
      "cell_type": "markdown",
      "source": [
        "# **Data Structure**\n",
        "- A data structure is a collection of data elements (such as numbers or characters—or even other data structures) that is structured in some way.\n",
        "- The most basic data structure in Python is the \"sequence.\"\n",
        "\n",
        "## 1.**Lists in Python**\n",
        "- Lists are one of the Sequence Data structures.\n",
        "- Lists are collections of items (Strings, integers, or even other lists).\n",
        "- Lists are enclosed in square brackets `[ ]`.\n",
        "- Each item in the list has an assigned index value.\n",
        "- Each item in a list is separated by a comma.\n",
        "- Lists are mutable, which means they can be changed.\n",
        "\n"
      ],
      "metadata": {
        "id": "4sbvgkq4EiKs"
      }
    },
    {
      "cell_type": "markdown",
      "source": [
        "**List Creation:**"
      ],
      "metadata": {
        "id": "wTPl5onMyVYD"
      }
    },
    {
      "cell_type": "code",
      "source": [
        "lst=list()\n",
        "emptyList = []\n",
        "lst = ['one', 'two', 'three', 'four']  # list of strings\n",
        "lst2 = [1, 2, 3, 4]  # list of integers\n",
        "lst3 = [[1, 2], [3, 4]]  # list of lists\n",
        "lst4 = [1, 'ramu', 24, 1.24]  # list of different datatypes"
      ],
      "metadata": {
        "id": "ZwpIQmEgElPE"
      },
      "execution_count": 31,
      "outputs": []
    },
    {
      "cell_type": "code",
      "source": [
        "type(lst)"
      ],
      "metadata": {
        "colab": {
          "base_uri": "https://localhost:8080/"
        },
        "id": "Ll3I-1EoT1PT",
        "outputId": "32c2c8e4-b33f-4573-8942-60247295098d"
      },
      "execution_count": 55,
      "outputs": [
        {
          "output_type": "execute_result",
          "data": {
            "text/plain": [
              "list"
            ]
          },
          "metadata": {},
          "execution_count": 55
        }
      ]
    },
    {
      "cell_type": "markdown",
      "source": [
        "**List Length:**"
      ],
      "metadata": {
        "id": "GLIdjtMPEpRf"
      }
    },
    {
      "cell_type": "code",
      "source": [
        "lst = ['one', 'two', 'three', 'four']\n",
        "# find the length of a list\n",
        "print(len(lst))"
      ],
      "metadata": {
        "colab": {
          "base_uri": "https://localhost:8080/"
        },
        "id": "NM8L78tnEr5u",
        "outputId": "9426a4b8-c440-4441-b42a-9ef215696b9b"
      },
      "execution_count": 2,
      "outputs": [
        {
          "output_type": "stream",
          "name": "stdout",
          "text": [
            "4\n"
          ]
        }
      ]
    },
    {
      "cell_type": "markdown",
      "source": [
        "**List Append:**"
      ],
      "metadata": {
        "id": "SlulRzkTEuEl"
      }
    },
    {
      "cell_type": "code",
      "source": [
        "lst = ['one', 'two', 'three', 'four']\n",
        "lst.append('five')  # append will add the item at the end\n",
        "print(lst)"
      ],
      "metadata": {
        "colab": {
          "base_uri": "https://localhost:8080/"
        },
        "id": "-PvSnRx8EvyX",
        "outputId": "07b6016f-3337-44e1-a5d9-bfe37d9ed878"
      },
      "execution_count": 3,
      "outputs": [
        {
          "output_type": "stream",
          "name": "stdout",
          "text": [
            "['one', 'two', 'three', 'four', 'five']\n"
          ]
        }
      ]
    },
    {
      "cell_type": "markdown",
      "source": [
        "**List Insert:**"
      ],
      "metadata": {
        "id": "y1IavcgAExks"
      }
    },
    {
      "cell_type": "code",
      "source": [
        "lst = ['one', 'two', 'four']\n",
        "lst.insert(2, \"three\")  # will add element 'three' at location 2\n",
        "print(lst)"
      ],
      "metadata": {
        "colab": {
          "base_uri": "https://localhost:8080/"
        },
        "id": "f6gOI_TbE0MQ",
        "outputId": "94d5c545-48de-43c1-c5e4-85e2118c7aba"
      },
      "execution_count": 4,
      "outputs": [
        {
          "output_type": "stream",
          "name": "stdout",
          "text": [
            "['one', 'two', 'three', 'four']\n"
          ]
        }
      ]
    },
    {
      "cell_type": "markdown",
      "source": [
        "**List Remove:**"
      ],
      "metadata": {
        "id": "pSHBMGHCE9-s"
      }
    },
    {
      "cell_type": "code",
      "source": [
        "\n",
        "lst = ['one', 'two', 'three', 'four', 'two']\n",
        "lst.remove('two')  # it will remove the first occurrence of 'two' in the list\n",
        "print(lst)"
      ],
      "metadata": {
        "colab": {
          "base_uri": "https://localhost:8080/"
        },
        "id": "phx9_q-LE9bv",
        "outputId": "fcb497ec-214f-40c2-c4a7-1d993f859bef"
      },
      "execution_count": 5,
      "outputs": [
        {
          "output_type": "stream",
          "name": "stdout",
          "text": [
            "['one', 'three', 'four', 'two']\n"
          ]
        }
      ]
    },
    {
      "cell_type": "markdown",
      "source": [
        "**List Append & Extend:**"
      ],
      "metadata": {
        "id": "tcVTG7q4FDHv"
      }
    },
    {
      "cell_type": "code",
      "source": [
        "lst = ['one', 'two', 'three', 'four']\n",
        "lst2 = ['five', 'six']\n",
        "# append\n",
        "lst.append(lst2)\n",
        "print(lst)\n",
        "\n",
        "# extend will join the list with list1\n",
        "lst.extend(lst2)\n",
        "print(lst)"
      ],
      "metadata": {
        "colab": {
          "base_uri": "https://localhost:8080/"
        },
        "id": "u_Fg4VNAFGlQ",
        "outputId": "f287f71c-ca93-4325-df53-28694f9f67ce"
      },
      "execution_count": 6,
      "outputs": [
        {
          "output_type": "stream",
          "name": "stdout",
          "text": [
            "['one', 'two', 'three', 'four', ['five', 'six']]\n",
            "['one', 'two', 'three', 'four', ['five', 'six'], 'five', 'six']\n"
          ]
        }
      ]
    },
    {
      "cell_type": "markdown",
      "source": [
        "**List Extend Using \"+\"**"
      ],
      "metadata": {
        "id": "eAeWtQLOF4wM"
      }
    },
    {
      "cell_type": "code",
      "source": [
        "lst=[232,231,12]\n",
        "lst2=[34343,212,311]\n",
        "print(lst+lst2)"
      ],
      "metadata": {
        "colab": {
          "base_uri": "https://localhost:8080/"
        },
        "id": "ytptI3O4F5Y2",
        "outputId": "bdbd6676-9b8a-4e38-e365-32fdfabf6500"
      },
      "execution_count": 7,
      "outputs": [
        {
          "output_type": "stream",
          "name": "stdout",
          "text": [
            "[232, 231, 12, 34343, 212, 311]\n"
          ]
        }
      ]
    },
    {
      "cell_type": "markdown",
      "source": [
        "\n",
        "**List Delete:**"
      ],
      "metadata": {
        "id": "seCp9k-4FJk2"
      }
    },
    {
      "cell_type": "code",
      "source": [
        "lst = ['one', 'two', 'three', 'four', 'five']\n",
        "del lst[1]  # using 'del' to remove item based on index position\n",
        "print(lst)"
      ],
      "metadata": {
        "id": "zGR2BE1iFL5k"
      },
      "execution_count": null,
      "outputs": []
    },
    {
      "cell_type": "code",
      "source": [
        "# or we can use pop() method\n",
        "a = lst.pop(1)\n",
        "print(a)\n",
        "print(lst)"
      ],
      "metadata": {
        "colab": {
          "base_uri": "https://localhost:8080/"
        },
        "id": "xlGBxrANGiOp",
        "outputId": "644658d0-8072-4fa9-f80a-c4fd64737ed9"
      },
      "execution_count": 8,
      "outputs": [
        {
          "output_type": "stream",
          "name": "stdout",
          "text": [
            "231\n",
            "[232, 12]\n"
          ]
        }
      ]
    },
    {
      "cell_type": "code",
      "source": [
        "lst = ['one', 'two', 'three', 'four']\n",
        "# remove an item from the list\n",
        "lst.remove('three')\n",
        "print(lst)"
      ],
      "metadata": {
        "colab": {
          "base_uri": "https://localhost:8080/"
        },
        "id": "kesiHpFdGljp",
        "outputId": "5cfa5227-15f6-4d4b-f19f-ba48d81abcae"
      },
      "execution_count": 9,
      "outputs": [
        {
          "output_type": "stream",
          "name": "stdout",
          "text": [
            "['one', 'two', 'four']\n"
          ]
        }
      ]
    },
    {
      "cell_type": "markdown",
      "source": [
        "\n",
        "**List-related Keywords in Python:**"
      ],
      "metadata": {
        "id": "3whGwGM2FOjP"
      }
    },
    {
      "cell_type": "code",
      "source": [
        "# keyword 'in' is used to test if an item is in a list\n",
        "lst = ['one', 'two', 'three', 'four']\n",
        "if 'two' in lst:\n",
        "    print('AI')"
      ],
      "metadata": {
        "colab": {
          "base_uri": "https://localhost:8080/"
        },
        "id": "nx5oE9chFREy",
        "outputId": "e2f9e79d-30a9-4b51-d37e-7e5fec4ca37a"
      },
      "execution_count": 11,
      "outputs": [
        {
          "output_type": "stream",
          "name": "stdout",
          "text": [
            "AI\n"
          ]
        }
      ]
    },
    {
      "cell_type": "code",
      "source": [
        "# keyword 'not' can be combined with 'in'\n",
        "if 'six' not in lst:\n",
        "    print('ML')"
      ],
      "metadata": {
        "colab": {
          "base_uri": "https://localhost:8080/"
        },
        "id": "SegwEjktGxB4",
        "outputId": "9d0cdd67-7933-441d-904b-00f5054d0e58"
      },
      "execution_count": 10,
      "outputs": [
        {
          "output_type": "stream",
          "name": "stdout",
          "text": [
            "ML\n"
          ]
        }
      ]
    },
    {
      "cell_type": "markdown",
      "source": [
        "**List Reverse:**"
      ],
      "metadata": {
        "id": "cKAdZwM0FUM2"
      }
    },
    {
      "cell_type": "code",
      "source": [
        "# reverse reverses the entire list\n",
        "lst = ['one', 'two', 'three', 'four']\n",
        "lst.reverse()\n",
        "print(lst)"
      ],
      "metadata": {
        "colab": {
          "base_uri": "https://localhost:8080/"
        },
        "id": "aAoT5o5lFWMR",
        "outputId": "0798b79b-99f7-4f93-bcc5-2eae46daba36"
      },
      "execution_count": 12,
      "outputs": [
        {
          "output_type": "stream",
          "name": "stdout",
          "text": [
            "['four', 'three', 'two', 'one']\n"
          ]
        }
      ]
    },
    {
      "cell_type": "markdown",
      "source": [
        "**List Sorting:**"
      ],
      "metadata": {
        "id": "P7whjxLUFZe6"
      }
    },
    {
      "cell_type": "code",
      "source": [
        "# The easiest way to sort a List is with the sorted(list) function.\n",
        "# The original list is not changed.\n",
        "numbers = [3, 1, 6, 2, 8]\n",
        "sorted_lst = sorted(numbers)\n",
        "print(\"Sorted list:\", sorted_lst)\n",
        "print(\"Original list:\", numbers)"
      ],
      "metadata": {
        "colab": {
          "base_uri": "https://localhost:8080/"
        },
        "id": "XxeqURUrHD79",
        "outputId": "fbe45f13-8448-4071-a8a4-326044fcb4ad"
      },
      "execution_count": 13,
      "outputs": [
        {
          "output_type": "stream",
          "name": "stdout",
          "text": [
            "Sorted list: [1, 2, 3, 6, 8]\n",
            "Original list: [3, 1, 6, 2, 8]\n"
          ]
        }
      ]
    },
    {
      "cell_type": "code",
      "source": [
        "# Print a list in reverse sorted order\n",
        "print(\"Reverse sorted list:\", sorted(numbers, reverse=True))  # Output: [8, 6, 3, 2, 1]\n",
        "print(\"Original list:\", numbers)"
      ],
      "metadata": {
        "colab": {
          "base_uri": "https://localhost:8080/"
        },
        "id": "cb5bJ9o_HJk_",
        "outputId": "62a7993d-ccee-479d-b3de-96d7641e0011"
      },
      "execution_count": 14,
      "outputs": [
        {
          "output_type": "stream",
          "name": "stdout",
          "text": [
            "Reverse sorted list: [8, 6, 3, 2, 1]\n",
            "Original list: [3, 1, 6, 2, 8]\n"
          ]
        }
      ]
    },
    {
      "cell_type": "code",
      "source": [
        "b=[(100,2),(200,7),(23,3),(354,4),(44,44)]\n",
        "sorted(b,key=lambda x:x[1])"
      ],
      "metadata": {
        "colab": {
          "base_uri": "https://localhost:8080/"
        },
        "id": "Xm49tZ1zHPb7",
        "outputId": "9031e630-4ae0-442d-ce84-0d73b256fbd5"
      },
      "execution_count": 18,
      "outputs": [
        {
          "output_type": "execute_result",
          "data": {
            "text/plain": [
              "[(100, 2), (23, 3), (354, 4), (200, 7), (44, 44)]"
            ]
          },
          "metadata": {},
          "execution_count": 18
        }
      ]
    },
    {
      "cell_type": "code",
      "source": [
        "lst = [1, 20, 5, 5, 4.2]\n",
        "lst.sort()  # Sort the list and store it in itself\n",
        "print(\"Sorted list:\", lst)  # Output: [1, 4.2, 5, 5, 20]"
      ],
      "metadata": {
        "colab": {
          "base_uri": "https://localhost:8080/"
        },
        "id": "Uqojo7pmFdju",
        "outputId": "22d9d256-44ff-44e8-f49d-e92619da2af8"
      },
      "execution_count": 15,
      "outputs": [
        {
          "output_type": "stream",
          "name": "stdout",
          "text": [
            "Sorted list: [1, 4.2, 5, 5, 20]\n"
          ]
        }
      ]
    },
    {
      "cell_type": "markdown",
      "source": [
        "**List Having Multiple References:**"
      ],
      "metadata": {
        "id": "cqN7UoPnFfjp"
      }
    },
    {
      "cell_type": "code",
      "source": [
        "lst = [1, 2, 3, 4, 5]\n",
        "abc = lst\n",
        "abc.append(6)\n",
        "# original list will also change\n",
        "print(\"Original list:\", lst)"
      ],
      "metadata": {
        "colab": {
          "base_uri": "https://localhost:8080/"
        },
        "id": "SDyPOSpOFhRO",
        "outputId": "46cffd36-e3d3-47b5-b670-c6d4d571dca5"
      },
      "execution_count": 19,
      "outputs": [
        {
          "output_type": "stream",
          "name": "stdout",
          "text": [
            "Original list: [1, 2, 3, 4, 5, 6]\n"
          ]
        }
      ]
    },
    {
      "cell_type": "markdown",
      "source": [
        "**String Split to Create a List:**"
      ],
      "metadata": {
        "id": "d3hOPNTIFjX5"
      }
    },
    {
      "cell_type": "code",
      "source": [
        "# Let's take a string\n",
        "s = \"one,two,three,four,five\"\n",
        "slst = s.split(',')\n",
        "print(slst)"
      ],
      "metadata": {
        "colab": {
          "base_uri": "https://localhost:8080/"
        },
        "id": "0_ha5EYnFlw7",
        "outputId": "e1b7880e-24bd-4fc9-ea27-2cf9ef72084e"
      },
      "execution_count": 21,
      "outputs": [
        {
          "output_type": "stream",
          "name": "stdout",
          "text": [
            "['one', 'two', 'three', 'four', 'five']\n"
          ]
        }
      ]
    },
    {
      "cell_type": "code",
      "source": [
        "s = \"My name is Mohan\"\n",
        "split_lst = s.split()  # Default split is whitespace: space or tab\n",
        "print(split_lst)"
      ],
      "metadata": {
        "colab": {
          "base_uri": "https://localhost:8080/"
        },
        "id": "8bHIJ2ytIKMb",
        "outputId": "ee1edfde-45ba-434a-f574-8c79e587dfef"
      },
      "execution_count": 22,
      "outputs": [
        {
          "output_type": "stream",
          "name": "stdout",
          "text": [
            "['My', 'name', 'is', 'Mohan']\n"
          ]
        }
      ]
    },
    {
      "cell_type": "markdown",
      "source": [
        "**List Indexing:**\n",
        "- Each item in the list has an assigned index value starting from 0.\n",
        "- If you start from last it will start with -1 and so on."
      ],
      "metadata": {
        "id": "I-XQV2xvFow_"
      }
    },
    {
      "cell_type": "code",
      "source": [
        "lst = [1, 2, 3, 4]\n",
        "print(lst[0])  # Print first element"
      ],
      "metadata": {
        "colab": {
          "base_uri": "https://localhost:8080/"
        },
        "id": "bQUsLctFFsfi",
        "outputId": "7cf4e9e8-ea41-4c42-b0d6-c7e9ee3283dd"
      },
      "execution_count": 40,
      "outputs": [
        {
          "output_type": "stream",
          "name": "stdout",
          "text": [
            "1\n"
          ]
        }
      ]
    },
    {
      "cell_type": "code",
      "source": [
        "#last element\n",
        "print(lst[3])\n",
        "print(lst[len(lst)-1])\n",
        "#last element using negative index\n",
        "print(lst[-1])"
      ],
      "metadata": {
        "colab": {
          "base_uri": "https://localhost:8080/"
        },
        "id": "RZtpQD9_RjLV",
        "outputId": "2c491f93-b38b-4855-8cf3-73c0a5aeb78e"
      },
      "execution_count": 44,
      "outputs": [
        {
          "output_type": "stream",
          "name": "stdout",
          "text": [
            "4\n",
            "4\n",
            "4\n"
          ]
        }
      ]
    },
    {
      "cell_type": "code",
      "source": [
        "print(lst[1])\n",
        "# Print  element using negative index\n",
        "print(lst[-3])"
      ],
      "metadata": {
        "colab": {
          "base_uri": "https://localhost:8080/"
        },
        "id": "EURPEPKCIR4O",
        "outputId": "4364bc6f-188e-4869-f808-a923b65921c0"
      },
      "execution_count": 46,
      "outputs": [
        {
          "output_type": "stream",
          "name": "stdout",
          "text": [
            "2\n",
            "2\n"
          ]
        }
      ]
    },
    {
      "cell_type": "markdown",
      "source": [
        "**List Slicing:**\n",
        "- Accessing parts of segments is called slicing.\n",
        "- The `end` value represents the first value that is not in the selected slice."
      ],
      "metadata": {
        "id": "xcWHCp_WFvSs"
      }
    },
    {
      "cell_type": "code",
      "source": [
        "numbers = [10, 20, 30, 40, 50, 60, 70, 80]\n",
        "# Print all numbers\n",
        "print(numbers[:])"
      ],
      "metadata": {
        "colab": {
          "base_uri": "https://localhost:8080/"
        },
        "id": "DbuChiPcFyng",
        "outputId": "f1b0ed41-10a5-4252-8d3b-c9effc14aba6"
      },
      "execution_count": 27,
      "outputs": [
        {
          "output_type": "stream",
          "name": "stdout",
          "text": [
            "[10, 20, 30, 40, 50, 60, 70, 80]\n"
          ]
        }
      ]
    },
    {
      "cell_type": "code",
      "source": [
        "# Print from index 0 to index 3\n",
        "print(numbers[0:4])"
      ],
      "metadata": {
        "colab": {
          "base_uri": "https://localhost:8080/"
        },
        "id": "qhwoTMbCEecH",
        "outputId": "b0127d14-afaa-450b-ccb8-28cab5660e62"
      },
      "execution_count": 28,
      "outputs": [
        {
          "output_type": "stream",
          "name": "stdout",
          "text": [
            "[10, 20, 30, 40]\n"
          ]
        }
      ]
    },
    {
      "cell_type": "code",
      "source": [
        "# Print alternate elements in a list\n",
        "print(numbers[::2])"
      ],
      "metadata": {
        "colab": {
          "base_uri": "https://localhost:8080/"
        },
        "id": "2EHmu3wrIuSa",
        "outputId": "f0ed0771-e9d5-43f2-fe95-e6a2ff447eb0"
      },
      "execution_count": 29,
      "outputs": [
        {
          "output_type": "stream",
          "name": "stdout",
          "text": [
            "[10, 30, 50, 70]\n"
          ]
        }
      ]
    },
    {
      "cell_type": "code",
      "source": [
        "# Print elements starting from 0 through the rest of the list\n",
        "print(numbers[2::2])"
      ],
      "metadata": {
        "colab": {
          "base_uri": "https://localhost:8080/"
        },
        "id": "7uQDoUKfIypY",
        "outputId": "894f3b91-51b8-4b95-d0fa-1222135ae958"
      },
      "execution_count": 30,
      "outputs": [
        {
          "output_type": "stream",
          "name": "stdout",
          "text": [
            "[30, 50, 70]\n"
          ]
        }
      ]
    },
    {
      "cell_type": "markdown",
      "source": [
        "**List Count**"
      ],
      "metadata": {
        "id": "lDBsMQA2I_HU"
      }
    },
    {
      "cell_type": "code",
      "source": [
        "numbers = [1, 2, 3, 1, 3, 4, 2, 5]\n",
        "# Frequency of any element\n",
        "print(numbers.count(1))"
      ],
      "metadata": {
        "colab": {
          "base_uri": "https://localhost:8080/"
        },
        "id": "cDD-RRj-O1Y1",
        "outputId": "5c8ed47d-4bc9-4046-cc2d-2be96e8bcd2c"
      },
      "execution_count": 32,
      "outputs": [
        {
          "output_type": "stream",
          "name": "stdout",
          "text": [
            "2\n"
          ]
        }
      ]
    },
    {
      "cell_type": "markdown",
      "source": [
        "**List Looping**"
      ],
      "metadata": {
        "id": "wK4Rwie2PGHY"
      }
    },
    {
      "cell_type": "code",
      "source": [
        "lst = ['one', 'two', 'three', 'four']\n",
        "for ele in lst:\n",
        "  print(ele)"
      ],
      "metadata": {
        "colab": {
          "base_uri": "https://localhost:8080/"
        },
        "id": "0n5WahtvPFBF",
        "outputId": "56ce85ae-3696-4fde-fd84-9acd0a335370"
      },
      "execution_count": 33,
      "outputs": [
        {
          "output_type": "stream",
          "name": "stdout",
          "text": [
            "one\n",
            "two\n",
            "three\n",
            "four\n"
          ]
        }
      ]
    },
    {
      "cell_type": "markdown",
      "source": [
        "##2.**Tuples**\n",
        "\n",
        "- A tuple is similar to a list but with a key difference: it is immutable, meaning you can't change its elements once assigned.\n",
        "- Except for the functions/methods which mutate the list almost all other are applicable for tuples"
      ],
      "metadata": {
        "id": "htg9LYdrSv1M"
      }
    },
    {
      "cell_type": "markdown",
      "source": [
        "**Tuple Creation**"
      ],
      "metadata": {
        "id": "1HOj8wRNSywU"
      }
    },
    {
      "cell_type": "code",
      "source": [
        "# Empty tuple\n",
        "t = ()\n",
        "# Tuple with integers\n",
        "t = (1, 2, 3)\n",
        "# Tuple with mixed datatypes\n",
        "t = (1, 'raju', 28, 'abc')\n",
        "# Nested tuple\n",
        "t = (1, (2, 3, 4), [1, 'raju', 28, 'abc'])"
      ],
      "metadata": {
        "id": "o93yDlwVS1Hd"
      },
      "execution_count": 47,
      "outputs": []
    },
    {
      "cell_type": "code",
      "source": [
        "type(t)"
      ],
      "metadata": {
        "colab": {
          "base_uri": "https://localhost:8080/"
        },
        "id": "fw7fT47bTuew",
        "outputId": "708ca9b0-ad3d-4ad5-9591-0c760c180a65"
      },
      "execution_count": 54,
      "outputs": [
        {
          "output_type": "execute_result",
          "data": {
            "text/plain": [
              "tuple"
            ]
          },
          "metadata": {},
          "execution_count": 54
        }
      ]
    },
    {
      "cell_type": "markdown",
      "source": [
        "**Accessing Elements in a Tuple**"
      ],
      "metadata": {
        "id": "ELKw2epxS2xb"
      }
    },
    {
      "cell_type": "code",
      "source": [
        "t = (1, (2, 3, 4), [1, 'raju', 28, 'abc'])\n",
        "# Accessing by index\n",
        "print(t[1])"
      ],
      "metadata": {
        "colab": {
          "base_uri": "https://localhost:8080/"
        },
        "id": "B3bI_kucS9v4",
        "outputId": "b362ade8-b948-4422-d371-cfcb74df32c7"
      },
      "execution_count": 50,
      "outputs": [
        {
          "output_type": "stream",
          "name": "stdout",
          "text": [
            "(2, 3, 4)\n"
          ]
        }
      ]
    },
    {
      "cell_type": "code",
      "source": [
        "# Negative index\n",
        "print(t[-1])"
      ],
      "metadata": {
        "colab": {
          "base_uri": "https://localhost:8080/"
        },
        "id": "N0sgDx6-S9iX",
        "outputId": "13da795e-d013-468c-af03-e27fe9939a65"
      },
      "execution_count": 51,
      "outputs": [
        {
          "output_type": "stream",
          "name": "stdout",
          "text": [
            "[1, 'raju', 28, 'abc']\n"
          ]
        }
      ]
    },
    {
      "cell_type": "code",
      "source": [
        "# Nested tuple\n",
        "print(t[1])\n",
        "print(t[1][2])"
      ],
      "metadata": {
        "colab": {
          "base_uri": "https://localhost:8080/"
        },
        "id": "vXZIwg89TDSJ",
        "outputId": "9db9b64b-5afc-4424-eb49-8c616f00c476"
      },
      "execution_count": 49,
      "outputs": [
        {
          "output_type": "stream",
          "name": "stdout",
          "text": [
            "(2, 3, 4)\n",
            "4\n"
          ]
        }
      ]
    },
    {
      "cell_type": "code",
      "source": [
        "# Slicing\n",
        "print(t[1:4])\n",
        "print(t[:-2])\n",
        "print(t[:])"
      ],
      "metadata": {
        "colab": {
          "base_uri": "https://localhost:8080/"
        },
        "id": "WwPXWXZQS5xg",
        "outputId": "47bead2b-d14e-43d4-e9b2-6d705f797867"
      },
      "execution_count": 53,
      "outputs": [
        {
          "output_type": "stream",
          "name": "stdout",
          "text": [
            "((2, 3, 4), [1, 'raju', 28, 'abc'])\n",
            "(1,)\n",
            "(1, (2, 3, 4), [1, 'raju', 28, 'abc'])\n"
          ]
        }
      ]
    },
    {
      "cell_type": "markdown",
      "source": [
        "**Changing a Tuple**"
      ],
      "metadata": {
        "id": "c7kvzjJwTRbc"
      }
    },
    {
      "cell_type": "code",
      "source": [
        "# Tuples are immutable\n",
        "# Nested items in a tuple (e.g., a list) can be changed\n",
        "t = (1, 2, 3, 4, [5, 6, 7])\n",
        "t[4][1] = 'satish'\n",
        "print(t)"
      ],
      "metadata": {
        "colab": {
          "base_uri": "https://localhost:8080/"
        },
        "id": "QbrsnCTeUC_S",
        "outputId": "2fa76d9e-4803-43f9-94b8-ace6576cc446"
      },
      "execution_count": 57,
      "outputs": [
        {
          "output_type": "stream",
          "name": "stdout",
          "text": [
            "(1, 2, 3, 4, [5, 'satish', 7])\n"
          ]
        }
      ]
    },
    {
      "cell_type": "code",
      "source": [
        "# Concatenating tuples\n",
        "t = (1, 2, 3) + (4, 5, 6)\n",
        "print(t)"
      ],
      "metadata": {
        "colab": {
          "base_uri": "https://localhost:8080/"
        },
        "id": "PW-18mdsUC02",
        "outputId": "672af68c-abc4-4f49-913f-9de3eddafee7"
      },
      "execution_count": 58,
      "outputs": [
        {
          "output_type": "stream",
          "name": "stdout",
          "text": [
            "(1, 2, 3, 4, 5, 6)\n"
          ]
        }
      ]
    },
    {
      "cell_type": "code",
      "source": [
        "# Repeating elements in a tuple\n",
        "t = (('satish',) * 4)\n",
        "print(t)"
      ],
      "metadata": {
        "colab": {
          "base_uri": "https://localhost:8080/"
        },
        "id": "QrV1uhGuTSdS",
        "outputId": "7d4f5e03-feb4-4e68-ba94-0fbb588ee60b"
      },
      "execution_count": 59,
      "outputs": [
        {
          "output_type": "stream",
          "name": "stdout",
          "text": [
            "('satish', 'satish', 'satish', 'satish')\n"
          ]
        }
      ]
    },
    {
      "cell_type": "markdown",
      "source": [
        "**Tuple Deletion**"
      ],
      "metadata": {
        "id": "oao-o8fTTZBF"
      }
    },
    {
      "cell_type": "code",
      "source": [
        "# Tuples are immutable and cannot be changed or deleted partially\n",
        "# You can delete the entire tuple\n",
        "t = (1, 2, 3, 4, 5, 6)\n",
        "del t"
      ],
      "metadata": {
        "id": "Wzv487fgTbNn"
      },
      "execution_count": null,
      "outputs": []
    },
    {
      "cell_type": "markdown",
      "source": [
        "**Tuple Count and Index**"
      ],
      "metadata": {
        "id": "mkf-9uA9TefE"
      }
    },
    {
      "cell_type": "code",
      "source": [
        "t = (1, 2, 3, 1, 3, 3, 4, 1)\n",
        "print(t.count(1))\n",
        "print(t.index(3))"
      ],
      "metadata": {
        "colab": {
          "base_uri": "https://localhost:8080/"
        },
        "id": "HrdR2FIlTeMF",
        "outputId": "e587659f-4da1-483f-c804-50fe725d5042"
      },
      "execution_count": 61,
      "outputs": [
        {
          "output_type": "stream",
          "name": "stdout",
          "text": [
            "3\n",
            "2\n"
          ]
        }
      ]
    },
    {
      "cell_type": "markdown",
      "source": [
        "**Tuple Membership**"
      ],
      "metadata": {
        "id": "cL2kXpuwVT76"
      }
    },
    {
      "cell_type": "code",
      "source": [
        "t = (1, 2, 3, 4, 5, 6)\n",
        "print(1 in t)\n",
        "print(7 in t)"
      ],
      "metadata": {
        "colab": {
          "base_uri": "https://localhost:8080/"
        },
        "id": "Ctu1xd-iVP9p",
        "outputId": "f4772647-88c2-46e4-f285-414e3742d703"
      },
      "execution_count": 62,
      "outputs": [
        {
          "output_type": "stream",
          "name": "stdout",
          "text": [
            "True\n",
            "False\n"
          ]
        }
      ]
    },
    {
      "cell_type": "markdown",
      "source": [
        "**Built-in Functions for Tuples**"
      ],
      "metadata": {
        "id": "dmL88AlGVY0_"
      }
    },
    {
      "cell_type": "code",
      "source": [
        "t = (4, 5, 1, 2, 3)"
      ],
      "metadata": {
        "id": "dP3ljq_vVsPf"
      },
      "execution_count": 63,
      "outputs": []
    },
    {
      "cell_type": "code",
      "source": [
        "# Sort elements (returns a new sorted list, not modifying the tuple)\n",
        "sorted(t)"
      ],
      "metadata": {
        "colab": {
          "base_uri": "https://localhost:8080/"
        },
        "id": "Nzpz34SnVyys",
        "outputId": "2ab789e8-b8a2-4c0d-a15c-7ee4d102f868"
      },
      "execution_count": 64,
      "outputs": [
        {
          "output_type": "execute_result",
          "data": {
            "text/plain": [
              "[1, 2, 3, 4, 5]"
            ]
          },
          "metadata": {},
          "execution_count": 64
        }
      ]
    },
    {
      "cell_type": "code",
      "source": [
        "# Get the largest and smallest elements in a tuple\n",
        "print(max(t))\n",
        "print(min(t))"
      ],
      "metadata": {
        "colab": {
          "base_uri": "https://localhost:8080/"
        },
        "id": "JFZ3lQabV1B7",
        "outputId": "7317c8f4-a992-425a-fbee-4dd5e4f04aec"
      },
      "execution_count": 65,
      "outputs": [
        {
          "output_type": "stream",
          "name": "stdout",
          "text": [
            "5\n",
            "1\n"
          ]
        }
      ]
    },
    {
      "cell_type": "code",
      "source": [
        "# Get sum of elements\n",
        "print(sum(t))"
      ],
      "metadata": {
        "colab": {
          "base_uri": "https://localhost:8080/"
        },
        "id": "4W0CERXcVdtc",
        "outputId": "464c7ca4-f8cb-4825-b7ec-80680501e46a"
      },
      "execution_count": 66,
      "outputs": [
        {
          "output_type": "stream",
          "name": "stdout",
          "text": [
            "15\n"
          ]
        }
      ]
    },
    {
      "cell_type": "markdown",
      "source": [
        "##3.**Sets**\n",
        "\n",
        "- A set is an unordered collection of unique items.\n",
        "- Sets are mutable; you can add or remove items from them.\n",
        "- Sets can be used to perform mathematical set operations like union, intersection, symmetric difference, etc."
      ],
      "metadata": {
        "id": "PomZnyiBWgEv"
      }
    },
    {
      "cell_type": "markdown",
      "source": [
        "**Set Creation**\n"
      ],
      "metadata": {
        "id": "CmcFzY_xWib4"
      }
    },
    {
      "cell_type": "code",
      "source": [
        "# Creating a set of integers\n",
        "s = {1, 2, 3}\n",
        "\n",
        "# Creating a set from a list\n",
        "s = set([1, 2, 3, 1])\n",
        "print(s)"
      ],
      "metadata": {
        "colab": {
          "base_uri": "https://localhost:8080/"
        },
        "id": "qn9v5Ew6Wksy",
        "outputId": "8104be60-508e-4184-a3b4-3ae42f6690c7"
      },
      "execution_count": 67,
      "outputs": [
        {
          "output_type": "stream",
          "name": "stdout",
          "text": [
            "{1, 2, 3}\n"
          ]
        }
      ]
    },
    {
      "cell_type": "code",
      "source": [
        "# Initializing an empty set\n",
        "s = set()\n",
        "print(type(s))"
      ],
      "metadata": {
        "colab": {
          "base_uri": "https://localhost:8080/"
        },
        "id": "d4n4Wwp8Y15H",
        "outputId": "964c09e4-3a85-481a-9fd1-0f81707e3fcf"
      },
      "execution_count": 68,
      "outputs": [
        {
          "output_type": "stream",
          "name": "stdout",
          "text": [
            "<class 'set'>\n"
          ]
        }
      ]
    },
    {
      "cell_type": "markdown",
      "source": [
        "**Elements of set should be immutable**"
      ],
      "metadata": {
        "id": "bPC0pSVWp609"
      }
    },
    {
      "cell_type": "code",
      "source": [
        "s={[10,232,232],53,34,23}\n",
        "# we can use tuple,string as element but not set,list"
      ],
      "metadata": {
        "colab": {
          "base_uri": "https://localhost:8080/",
          "height": 200
        },
        "id": "UuRftu8kpj4o",
        "outputId": "46a0044d-f505-40f5-ec1a-f030e7fd50bc"
      },
      "execution_count": 101,
      "outputs": [
        {
          "output_type": "error",
          "ename": "TypeError",
          "evalue": "ignored",
          "traceback": [
            "\u001b[0;31m---------------------------------------------------------------------------\u001b[0m",
            "\u001b[0;31mTypeError\u001b[0m                                 Traceback (most recent call last)",
            "\u001b[0;32m<ipython-input-101-30c67428bede>\u001b[0m in \u001b[0;36m<cell line: 2>\u001b[0;34m()\u001b[0m\n\u001b[1;32m      1\u001b[0m \u001b[0;31m# elements of set should be immutable\u001b[0m\u001b[0;34m\u001b[0m\u001b[0;34m\u001b[0m\u001b[0m\n\u001b[0;32m----> 2\u001b[0;31m \u001b[0ms\u001b[0m\u001b[0;34m=\u001b[0m\u001b[0;34m{\u001b[0m\u001b[0;34m[\u001b[0m\u001b[0;36m10\u001b[0m\u001b[0;34m,\u001b[0m\u001b[0;36m232\u001b[0m\u001b[0;34m,\u001b[0m\u001b[0;36m232\u001b[0m\u001b[0;34m]\u001b[0m\u001b[0;34m,\u001b[0m\u001b[0;36m53\u001b[0m\u001b[0;34m,\u001b[0m\u001b[0;36m34\u001b[0m\u001b[0;34m,\u001b[0m\u001b[0;36m23\u001b[0m\u001b[0;34m}\u001b[0m\u001b[0;34m\u001b[0m\u001b[0;34m\u001b[0m\u001b[0m\n\u001b[0m",
            "\u001b[0;31mTypeError\u001b[0m: unhashable type: 'list'"
          ]
        }
      ]
    },
    {
      "cell_type": "markdown",
      "source": [
        "**Adding Elements to a Set**"
      ],
      "metadata": {
        "id": "Hy4At2kTWo7U"
      }
    },
    {
      "cell_type": "code",
      "source": [
        "s = {1, 3}\n",
        "\n",
        "# Adding a single element using add()\n",
        "s.add(2)\n",
        "print(s)"
      ],
      "metadata": {
        "colab": {
          "base_uri": "https://localhost:8080/"
        },
        "id": "Al91saT5WrSu",
        "outputId": "6ee3e58a-a43d-4e9f-896d-ad2dffebc107"
      },
      "execution_count": 73,
      "outputs": [
        {
          "output_type": "stream",
          "name": "stdout",
          "text": [
            "{1, 2, 3}\n"
          ]
        }
      ]
    },
    {
      "cell_type": "code",
      "source": [
        "# Adding multiple elements using update()\n",
        "s.update([5, 6, 1])\n",
        "print(s)"
      ],
      "metadata": {
        "colab": {
          "base_uri": "https://localhost:8080/"
        },
        "id": "wQRnwvjgY78e",
        "outputId": "43f20f49-20be-43c9-cff4-26bb70c8803e"
      },
      "execution_count": 74,
      "outputs": [
        {
          "output_type": "stream",
          "name": "stdout",
          "text": [
            "{1, 2, 3, 5, 6}\n"
          ]
        }
      ]
    },
    {
      "cell_type": "code",
      "source": [
        "# Adding elements from a list and another set\n",
        "s.update([8, 9], {10, 2, 3})\n",
        "print(s)"
      ],
      "metadata": {
        "colab": {
          "base_uri": "https://localhost:8080/"
        },
        "id": "CNrcBjoMY8NM",
        "outputId": "2be58f1b-78e8-4abb-b578-e94ce933f4b8"
      },
      "execution_count": 75,
      "outputs": [
        {
          "output_type": "stream",
          "name": "stdout",
          "text": [
            "{1, 2, 3, 5, 6, 8, 9, 10}\n"
          ]
        }
      ]
    },
    {
      "cell_type": "markdown",
      "source": [
        "**Removing Elements from a Set**"
      ],
      "metadata": {
        "id": "cbMmZsQ8WtPX"
      }
    },
    {
      "cell_type": "code",
      "source": [
        "s = {1, 2, 3, 5, 4}\n",
        "# Removing an element using discard()\n",
        "s.discard(4)\n",
        "print(s)"
      ],
      "metadata": {
        "colab": {
          "base_uri": "https://localhost:8080/"
        },
        "id": "wax30fjmZGHS",
        "outputId": "871ab0b4-d219-4049-ee22-3e8c8a794737"
      },
      "execution_count": 86,
      "outputs": [
        {
          "output_type": "stream",
          "name": "stdout",
          "text": [
            "{1, 2, 3, 5}\n"
          ]
        }
      ]
    },
    {
      "cell_type": "code",
      "source": [
        "# Removing an element using remove()\n",
        "s.remove(2)\n",
        "print(s)"
      ],
      "metadata": {
        "colab": {
          "base_uri": "https://localhost:8080/"
        },
        "id": "vqnb9aOcZF-2",
        "outputId": "e9c642eb-c2f7-4a3a-e31d-5555dc5ac45f"
      },
      "execution_count": 87,
      "outputs": [
        {
          "output_type": "stream",
          "name": "stdout",
          "text": [
            "{1, 3, 5}\n"
          ]
        }
      ]
    },
    {
      "cell_type": "code",
      "source": [
        "# Removing an element not present in the set using discard()\n",
        "s.discard(7) #(using remove() give keyError)\n",
        "print(s)"
      ],
      "metadata": {
        "colab": {
          "base_uri": "https://localhost:8080/"
        },
        "id": "dvFmBpizW58_",
        "outputId": "dba23651-9f29-464f-95e4-63a9558720ff"
      },
      "execution_count": 90,
      "outputs": [
        {
          "output_type": "stream",
          "name": "stdout",
          "text": [
            "{2, 3, 4, 5}\n"
          ]
        }
      ]
    },
    {
      "cell_type": "code",
      "source": [
        "# Removing a random element using pop()\n",
        "s.pop()  # Removes a random element\n",
        "print(s)"
      ],
      "metadata": {
        "colab": {
          "base_uri": "https://localhost:8080/"
        },
        "id": "HC4dBv9bZUYq",
        "outputId": "640f1b3e-5655-4217-eff1-f4f15fd2f74f"
      },
      "execution_count": 91,
      "outputs": [
        {
          "output_type": "stream",
          "name": "stdout",
          "text": [
            "{3, 4, 5}\n"
          ]
        }
      ]
    },
    {
      "cell_type": "markdown",
      "source": [
        "**Python Set Operations**"
      ],
      "metadata": {
        "id": "yuPQ95prW8HC"
      }
    },
    {
      "cell_type": "code",
      "source": [
        "set1 = {1, 2, 3, 4, 5}\n",
        "set2 = {3, 4, 5, 6, 7}\n",
        "\n",
        "# Union of two sets using | operator\n",
        "print(set1 | set2)\n",
        "print(set1.union(set2))"
      ],
      "metadata": {
        "colab": {
          "base_uri": "https://localhost:8080/"
        },
        "id": "uTxWzuiwXJD9",
        "outputId": "a736df1d-de5f-4c01-dea4-c3f6673fbf6e"
      },
      "execution_count": 97,
      "outputs": [
        {
          "output_type": "stream",
          "name": "stdout",
          "text": [
            "{1, 2, 3, 4, 5, 6, 7}\n",
            "{1, 2, 3, 4, 5, 6, 7}\n"
          ]
        }
      ]
    },
    {
      "cell_type": "code",
      "source": [
        "# Intersection of two sets using & operator\n",
        "print(set1 & set2)\n",
        "print(set1.intersection(set2))"
      ],
      "metadata": {
        "colab": {
          "base_uri": "https://localhost:8080/"
        },
        "id": "EsnafaOfnULh",
        "outputId": "b17b93c9-7e73-404b-8ea5-ffe2499c1e22"
      },
      "execution_count": 96,
      "outputs": [
        {
          "output_type": "stream",
          "name": "stdout",
          "text": [
            "{3, 4, 5}\n",
            "{3, 4, 5}\n"
          ]
        }
      ]
    },
    {
      "cell_type": "code",
      "source": [
        "# Set Difference: Elements in set1 but not in set2\n",
        "print(set1 - set2)\n",
        "\n",
        "# Symmetric Difference: Elements in both sets but not common\n",
        "print(set1 ^ set2)"
      ],
      "metadata": {
        "colab": {
          "base_uri": "https://localhost:8080/"
        },
        "id": "GLiAY00dnLJg",
        "outputId": "6b5f9401-cbb6-4b33-c192-f4b2b99c7799"
      },
      "execution_count": 98,
      "outputs": [
        {
          "output_type": "stream",
          "name": "stdout",
          "text": [
            "{1, 2}\n",
            "{1, 2, 6, 7}\n"
          ]
        }
      ]
    },
    {
      "cell_type": "markdown",
      "source": [
        "\n",
        "**Frozen Sets**\n",
        "\n",
        "- Frozen sets are similar to sets but are immutable."
      ],
      "metadata": {
        "id": "q2GZPPXaXU1z"
      }
    },
    {
      "cell_type": "code",
      "source": [
        "set1 = frozenset([1, 2, 3, 4])\n",
        "set2 = frozenset([3, 4, 5, 6])\n",
        "\n",
        "# Adding elements to a frozen set (raises an error)\n",
        "# Frozen sets don't support indexing\n",
        "# Operations on frozen sets (Union,Intersection,Symmetric difference )"
      ],
      "metadata": {
        "id": "HVjWUJ3uXXDP"
      },
      "execution_count": null,
      "outputs": []
    },
    {
      "cell_type": "markdown",
      "source": [
        "\n",
        "**Note:** Frozen sets are hashable and can be used as dictionary keys, unlike sets.:\n",
        "\n",
        " - means they can be used as dictionary keys, while regular sets are not hashable and cannot be used as dictionary keys."
      ],
      "metadata": {
        "id": "-Qf8hImtWYh-"
      }
    },
    {
      "cell_type": "code",
      "source": [
        "# Creating a frozen set\n",
        "frozen_set = frozenset([1, 2, 3])\n",
        "\n",
        "# Creating a dictionary with a frozen set as a key\n",
        "my_dict = {frozen_set: \"Hello, world!\"}\n",
        "\n",
        "# Accessing the dictionary using the frozen set as a key\n",
        "print(my_dict[frozen_set])"
      ],
      "metadata": {
        "colab": {
          "base_uri": "https://localhost:8080/"
        },
        "id": "wdg3PC7onsaC",
        "outputId": "bda3c062-08a1-4111-abec-728b918fd1fc"
      },
      "execution_count": 99,
      "outputs": [
        {
          "output_type": "stream",
          "name": "stdout",
          "text": [
            "Hello, world!\n"
          ]
        }
      ]
    },
    {
      "cell_type": "code",
      "source": [
        "# Attempting to use a regular set as a key will result in a TypeError\n",
        "my_set = {1, 2, 3}\n",
        "\n",
        "my_dict = {my_set: \"This will raise a TypeError\"}"
      ],
      "metadata": {
        "colab": {
          "base_uri": "https://localhost:8080/",
          "height": 218
        },
        "id": "--hDrKm_oS0Z",
        "outputId": "493d7236-ea7f-40f3-b265-fc6aff909d30"
      },
      "execution_count": 100,
      "outputs": [
        {
          "output_type": "error",
          "ename": "TypeError",
          "evalue": "ignored",
          "traceback": [
            "\u001b[0;31m---------------------------------------------------------------------------\u001b[0m",
            "\u001b[0;31mTypeError\u001b[0m                                 Traceback (most recent call last)",
            "\u001b[0;32m<ipython-input-100-6ddb66700052>\u001b[0m in \u001b[0;36m<cell line: 4>\u001b[0;34m()\u001b[0m\n\u001b[1;32m      2\u001b[0m \u001b[0mmy_set\u001b[0m \u001b[0;34m=\u001b[0m \u001b[0;34m{\u001b[0m\u001b[0;36m1\u001b[0m\u001b[0;34m,\u001b[0m \u001b[0;36m2\u001b[0m\u001b[0;34m,\u001b[0m \u001b[0;36m3\u001b[0m\u001b[0;34m}\u001b[0m\u001b[0;34m\u001b[0m\u001b[0;34m\u001b[0m\u001b[0m\n\u001b[1;32m      3\u001b[0m \u001b[0;34m\u001b[0m\u001b[0m\n\u001b[0;32m----> 4\u001b[0;31m \u001b[0mmy_dict\u001b[0m \u001b[0;34m=\u001b[0m \u001b[0;34m{\u001b[0m\u001b[0mmy_set\u001b[0m\u001b[0;34m:\u001b[0m \u001b[0;34m\"This will raise a TypeError\"\u001b[0m\u001b[0;34m}\u001b[0m\u001b[0;34m\u001b[0m\u001b[0;34m\u001b[0m\u001b[0m\n\u001b[0m",
            "\u001b[0;31mTypeError\u001b[0m: unhashable type: 'set'"
          ]
        }
      ]
    },
    {
      "cell_type": "markdown",
      "source": [
        "##4.**Dictionaries in Python**\n",
        "\n",
        "- A dictionary is an unordered collection of key-value pairs.\n",
        "- Each key in a dictionary is unique.\n",
        "- Dictionaries are mutable; you can add, modify, or remove key-value pairs.\n",
        "\n",
        "**Dictionary Creation**"
      ],
      "metadata": {
        "id": "rjCQTjI8qy9D"
      }
    },
    {
      "cell_type": "code",
      "source": [
        "# Creating an empty dictionary\n",
        "my_dict = {}\n",
        "\n",
        "# Dictionary with integer keys\n",
        "my_dict = {1: 'abc', 2: 'xyz'}\n",
        "\n",
        "# Dictionary with mixed keys\n",
        "my_dict = {'name': 'satish', 1: ['abc', 'xyz']}\n",
        "\n",
        "# Creating an empty dictionary using dict()\n",
        "my_dict = dict()\n",
        "\n",
        "# Creating a dictionary from a list of tuples\n",
        "my_dict = dict([(1, 'abc'), (2, 'xyz')])"
      ],
      "metadata": {
        "id": "t0aeQbe5qzyv"
      },
      "execution_count": 102,
      "outputs": []
    },
    {
      "cell_type": "markdown",
      "source": [
        "**Accessing Elements in a Dictionary**"
      ],
      "metadata": {
        "id": "9IQNcprPq3Yd"
      }
    },
    {
      "cell_type": "code",
      "source": [
        "my_dict = {'name': 'satish', 'age': 27, 'address': 'guntur'}\n",
        "# Accessing values by key\n",
        "print(my_dict['name'])\n",
        "# Accessing a key that doesn't exist raises KeyError"
      ],
      "metadata": {
        "colab": {
          "base_uri": "https://localhost:8080/"
        },
        "id": "Gh8ptsEuq5ni",
        "outputId": "1ac7c59e-a20c-4755-e225-74b849d14836"
      },
      "execution_count": 107,
      "outputs": [
        {
          "output_type": "stream",
          "name": "stdout",
          "text": [
            "satish\n"
          ]
        }
      ]
    },
    {
      "cell_type": "code",
      "source": [
        "# Using get() method to access a key\n",
        "print(my_dict.get('address'))\n",
        "print(my_dict.get('degree'))"
      ],
      "metadata": {
        "colab": {
          "base_uri": "https://localhost:8080/"
        },
        "id": "a9YyVzxdr7WG",
        "outputId": "1be4f024-f7fa-4efe-c629-a250aa056aa3"
      },
      "execution_count": 108,
      "outputs": [
        {
          "output_type": "stream",
          "name": "stdout",
          "text": [
            "guntur\n",
            "None\n"
          ]
        }
      ]
    },
    {
      "cell_type": "code",
      "source": [
        "# Call index on that value and even call on that method\n",
        "employee={\"Name\":\"Mohan\",\"Skill\":[\"Python\",\"Machine Learning\",\"Deep Learning\"]}\n",
        "employee[\"Skill\"]"
      ],
      "metadata": {
        "colab": {
          "base_uri": "https://localhost:8080/"
        },
        "id": "9GOpMQmbsotc",
        "outputId": "9702ffe0-cd99-4b32-fe2f-0513a60ba56e"
      },
      "execution_count": 111,
      "outputs": [
        {
          "output_type": "execute_result",
          "data": {
            "text/plain": [
              "['Python', 'Machine Learning', 'Deep Learning']"
            ]
          },
          "metadata": {},
          "execution_count": 111
        }
      ]
    },
    {
      "cell_type": "code",
      "source": [
        "employee[\"Skill\"][0].upper()"
      ],
      "metadata": {
        "colab": {
          "base_uri": "https://localhost:8080/",
          "height": 36
        },
        "id": "k6b3fBTKtKOK",
        "outputId": "676ec4de-27dd-4b68-a107-0e633ca7d612"
      },
      "execution_count": 112,
      "outputs": [
        {
          "output_type": "execute_result",
          "data": {
            "text/plain": [
              "'PYTHON'"
            ],
            "application/vnd.google.colaboratory.intrinsic+json": {
              "type": "string"
            }
          },
          "metadata": {},
          "execution_count": 112
        }
      ]
    },
    {
      "cell_type": "markdown",
      "source": [
        "**Adding or Modifying Elements in a Dictionary**"
      ],
      "metadata": {
        "id": "dHpRX0Xkq7hu"
      }
    },
    {
      "cell_type": "code",
      "source": [
        "my_dict = {'name': 'satish', 'age': 27, 'address': 'guntur'}\n",
        "\n",
        "# Modifying an existing key's value\n",
        "my_dict['name'] = 'raju'\n",
        "print(my_dict)"
      ],
      "metadata": {
        "colab": {
          "base_uri": "https://localhost:8080/"
        },
        "id": "VqoozTq8q-5X",
        "outputId": "daa62aba-fa2d-4da0-fa20-daf91250c455"
      },
      "execution_count": 109,
      "outputs": [
        {
          "output_type": "stream",
          "name": "stdout",
          "text": [
            "{'name': 'raju', 'age': 27, 'address': 'guntur'}\n"
          ]
        }
      ]
    },
    {
      "cell_type": "code",
      "source": [
        "# Adding a new key-value pair\n",
        "my_dict['degree'] = 'M.Tech'\n",
        "print(my_dict)"
      ],
      "metadata": {
        "colab": {
          "base_uri": "https://localhost:8080/"
        },
        "id": "vM1c5FS4sZ77",
        "outputId": "6b0e2547-aec5-489d-cbf9-ee30b51e42f7"
      },
      "execution_count": 110,
      "outputs": [
        {
          "output_type": "stream",
          "name": "stdout",
          "text": [
            "{'name': 'raju', 'age': 27, 'address': 'guntur', 'degree': 'M.Tech'}\n"
          ]
        }
      ]
    },
    {
      "cell_type": "markdown",
      "source": [
        "\n",
        "**Deleting or Removing Elements from a Dictionary**"
      ],
      "metadata": {
        "id": "w3RHu-ndrE5f"
      }
    },
    {
      "cell_type": "code",
      "source": [
        "my_dict = {'name': 'satish', 'age': 27, 'address': 'guntur'}\n",
        "\n",
        "# Removing a particular item by key and returning its value\n",
        "print(my_dict.pop('age'))\n",
        "print(my_dict)"
      ],
      "metadata": {
        "colab": {
          "base_uri": "https://localhost:8080/"
        },
        "id": "L4htBlhWrGi2",
        "outputId": "40d58613-9125-48be-d625-698a75a0f63b"
      },
      "execution_count": 115,
      "outputs": [
        {
          "output_type": "stream",
          "name": "stdout",
          "text": [
            "27\n",
            "{'name': 'satish', 'address': 'guntur'}\n"
          ]
        }
      ]
    },
    {
      "cell_type": "code",
      "source": [
        "# Removing an arbitrary key-value pair using popitem()\n",
        "my_dict.popitem()\n",
        "print(my_dict)"
      ],
      "metadata": {
        "colab": {
          "base_uri": "https://localhost:8080/"
        },
        "id": "O6YjRMYAu1Cq",
        "outputId": "6716c491-c8c4-4635-82b6-6e2704da806c"
      },
      "execution_count": 116,
      "outputs": [
        {
          "output_type": "stream",
          "name": "stdout",
          "text": [
            "{'name': 'satish'}\n"
          ]
        }
      ]
    },
    {
      "cell_type": "code",
      "source": [
        "# Deleting a particular key-value pair using del\n",
        "squares = {2: 4, 3: 9, 4: 16, 5: 25}\n",
        "del squares[2]\n",
        "print(squares)"
      ],
      "metadata": {
        "colab": {
          "base_uri": "https://localhost:8080/"
        },
        "id": "tvSzlW7NuuQD",
        "outputId": "1fdbaf2c-edd2-4c87-d24e-7e5c2529b9e0"
      },
      "execution_count": 118,
      "outputs": [
        {
          "output_type": "stream",
          "name": "stdout",
          "text": [
            "{3: 9, 4: 16, 5: 25}\n"
          ]
        }
      ]
    },
    {
      "cell_type": "code",
      "source": [
        "# Removing all items using clear()\n",
        "squares.clear()\n",
        "print(squares)"
      ],
      "metadata": {
        "colab": {
          "base_uri": "https://localhost:8080/"
        },
        "id": "qG_JTIkhu4v_",
        "outputId": "3e4fb495-fde6-43cd-be8a-4fc8b8a5a94b"
      },
      "execution_count": 119,
      "outputs": [
        {
          "output_type": "stream",
          "name": "stdout",
          "text": [
            "{}\n"
          ]
        }
      ]
    },
    {
      "cell_type": "markdown",
      "source": [
        "**Dictionary Methods**"
      ],
      "metadata": {
        "id": "puzOIhbfrLv0"
      }
    },
    {
      "cell_type": "code",
      "source": [
        "squares = {2: 4, 3: 9, 4: 16, 5: 25}\n",
        "# Creating a copy of a dictionary\n",
        "my_dict = squares.copy()\n",
        "print(my_dict)"
      ],
      "metadata": {
        "colab": {
          "base_uri": "https://localhost:8080/"
        },
        "id": "Sw2kW1XrwVad",
        "outputId": "64a88a86-6288-49a1-aa71-3fc4ea2edbd3"
      },
      "execution_count": 120,
      "outputs": [
        {
          "output_type": "stream",
          "name": "stdout",
          "text": [
            "{2: 4, 3: 9, 4: 16, 5: 25}\n"
          ]
        }
      ]
    },
    {
      "cell_type": "code",
      "source": [
        "# Creating a dictionary using fromkeys()\n",
        "subjects = {}.fromkeys(['Math', 'English', 'Hindi'], 0)\n",
        "print(subjects)"
      ],
      "metadata": {
        "colab": {
          "base_uri": "https://localhost:8080/"
        },
        "id": "qE5jeXqixwhz",
        "outputId": "3d729b7b-7831-4125-ed23-08c587677443"
      },
      "execution_count": 121,
      "outputs": [
        {
          "output_type": "stream",
          "name": "stdout",
          "text": [
            "{'Math': 0, 'English': 0, 'Hindi': 0}\n"
          ]
        }
      ]
    },
    {
      "cell_type": "code",
      "source": [
        "# Getting a view of dictionary items\n",
        "print(squares.items())"
      ],
      "metadata": {
        "colab": {
          "base_uri": "https://localhost:8080/"
        },
        "id": "b_V9MqpFxzvw",
        "outputId": "c947d5e3-d189-46eb-b914-3e445638a0ce"
      },
      "execution_count": 122,
      "outputs": [
        {
          "output_type": "stream",
          "name": "stdout",
          "text": [
            "dict_items([(2, 4), (3, 9), (4, 16), (5, 25)])\n"
          ]
        }
      ]
    },
    {
      "cell_type": "code",
      "source": [
        "# Getting a view of dictionary keys\n",
        "print(squares.keys())\n",
        "\n",
        "# Getting a view of dictionary values\n",
        "print(squares.values())"
      ],
      "metadata": {
        "colab": {
          "base_uri": "https://localhost:8080/"
        },
        "id": "fQjzeX2Ixzkr",
        "outputId": "29560857-aa62-4d0b-ed95-57cfa8166e5c"
      },
      "execution_count": 123,
      "outputs": [
        {
          "output_type": "stream",
          "name": "stdout",
          "text": [
            "dict_keys([2, 3, 4, 5])\n",
            "dict_values([4, 9, 16, 25])\n"
          ]
        }
      ]
    },
    {
      "cell_type": "markdown",
      "source": [
        "**zip() function**"
      ],
      "metadata": {
        "id": "UprwJCMwzZi1"
      }
    },
    {
      "cell_type": "code",
      "source": [
        "L1=[\"cat\",\"name\",\"skill\",\"box\",\"a\"]\n",
        "L2=[3,4,5,3,1]\n",
        "dict(zip(L1,L2))"
      ],
      "metadata": {
        "colab": {
          "base_uri": "https://localhost:8080/"
        },
        "id": "xJQuWc6Szgq-",
        "outputId": "299108ce-b7e4-4a48-ecf2-9c75b72db764"
      },
      "execution_count": 125,
      "outputs": [
        {
          "output_type": "execute_result",
          "data": {
            "text/plain": [
              "{'cat': 3, 'name': 4, 'skill': 5, 'box': 3, 'a': 1}"
            ]
          },
          "metadata": {},
          "execution_count": 125
        }
      ]
    },
    {
      "cell_type": "markdown",
      "source": [
        "##5.**Strings**\n",
        "\n",
        "- A string is a sequence of characters.\n",
        "- Internally, computers deal with numbers (binary), so characters are encoded using encoding schemes like ASCII and Unicode.\n",
        "- In Python, strings are sequences of Unicode characters."
      ],
      "metadata": {
        "id": "Cw5a3uo20Xny"
      }
    },
    {
      "cell_type": "markdown",
      "source": [
        "**Creating Strings**"
      ],
      "metadata": {
        "id": "4koccaLg0Z9l"
      }
    },
    {
      "cell_type": "code",
      "source": [
        "# Single quotes\n",
        "myString = 'Hello'\n",
        "\n",
        "# Double quotes\n",
        "myString = \"Hello\"\n",
        "\n",
        "# Triple quotes for multiline strings or docstrings\n",
        "myString = '''Hello'''"
      ],
      "metadata": {
        "id": "Tgvol4aH0dHu"
      },
      "execution_count": 126,
      "outputs": []
    },
    {
      "cell_type": "markdown",
      "source": [
        "\n",
        "**Accessing Characters in a String**"
      ],
      "metadata": {
        "id": "eiIulgBD0l7m"
      }
    },
    {
      "cell_type": "code",
      "source": [
        "myString = \"Hello\"\n",
        "\n",
        "# Accessing individual characters using indexing\n",
        "print(myString[0])\n",
        "print(myString[-1])\n",
        "\n",
        "# Slicing to access a range of characters\n",
        "print(myString[2:5])"
      ],
      "metadata": {
        "id": "bgUiRHSI0mkS"
      },
      "execution_count": null,
      "outputs": []
    },
    {
      "cell_type": "markdown",
      "source": [
        "**Changing or Deleting a String**\n"
      ],
      "metadata": {
        "id": "ZcOlpaIK0s_I"
      }
    },
    {
      "cell_type": "code",
      "source": [
        "myString = \"Hello\"\n",
        "\n",
        "# Strings are immutable; you can't change individual characters\n",
        "myString[4] = 's'  # Raises TypeError"
      ],
      "metadata": {
        "colab": {
          "base_uri": "https://localhost:8080/",
          "height": 218
        },
        "id": "SjlegZok0w5I",
        "outputId": "7a521294-c820-4485-e7d3-53d71bb6e863"
      },
      "execution_count": 127,
      "outputs": [
        {
          "output_type": "error",
          "ename": "TypeError",
          "evalue": "ignored",
          "traceback": [
            "\u001b[0;31m---------------------------------------------------------------------------\u001b[0m",
            "\u001b[0;31mTypeError\u001b[0m                                 Traceback (most recent call last)",
            "\u001b[0;32m<ipython-input-127-ffbe2c16ee76>\u001b[0m in \u001b[0;36m<cell line: 4>\u001b[0;34m()\u001b[0m\n\u001b[1;32m      2\u001b[0m \u001b[0;34m\u001b[0m\u001b[0m\n\u001b[1;32m      3\u001b[0m \u001b[0;31m# Strings are immutable; you can't change individual characters\u001b[0m\u001b[0;34m\u001b[0m\u001b[0;34m\u001b[0m\u001b[0m\n\u001b[0;32m----> 4\u001b[0;31m \u001b[0mmyString\u001b[0m\u001b[0;34m[\u001b[0m\u001b[0;36m4\u001b[0m\u001b[0;34m]\u001b[0m \u001b[0;34m=\u001b[0m \u001b[0;34m's'\u001b[0m  \u001b[0;31m# Raises TypeError\u001b[0m\u001b[0;34m\u001b[0m\u001b[0;34m\u001b[0m\u001b[0m\n\u001b[0m",
            "\u001b[0;31mTypeError\u001b[0m: 'str' object does not support item assignment"
          ]
        }
      ]
    },
    {
      "cell_type": "code",
      "source": [
        "# Deleting a string\n",
        "del myString"
      ],
      "metadata": {
        "id": "I89-71uh1jYN"
      },
      "execution_count": 128,
      "outputs": []
    },
    {
      "cell_type": "markdown",
      "source": [
        "**String Operations**\n",
        "\n",
        "**Concatenation**"
      ],
      "metadata": {
        "id": "MC3O8t6W07IH"
      }
    },
    {
      "cell_type": "code",
      "source": [
        "s1 = \"Hello \"\n",
        "s2 = \"Satish\"\n",
        "\n",
        "# Concatenation using the + operator\n",
        "print(s1 + s2)\n",
        "\n",
        "# Repetition using the * operator\n",
        "print(s1 * 3)"
      ],
      "metadata": {
        "colab": {
          "base_uri": "https://localhost:8080/"
        },
        "id": "ruz5M_A009mJ",
        "outputId": "5ba60bc9-6236-49fb-b82c-1790ee98c06e"
      },
      "execution_count": 129,
      "outputs": [
        {
          "output_type": "stream",
          "name": "stdout",
          "text": [
            "Hello Satish\n",
            "Hello Hello Hello \n"
          ]
        }
      ]
    },
    {
      "cell_type": "markdown",
      "source": [
        "**Iterating Through a String**"
      ],
      "metadata": {
        "id": "RCT0HH_O1AOr"
      }
    },
    {
      "cell_type": "code",
      "source": [
        "for letter in \"Hello World\":\n",
        "    print(letter)"
      ],
      "metadata": {
        "colab": {
          "base_uri": "https://localhost:8080/"
        },
        "id": "Yh9NWWVt1EnC",
        "outputId": "c2dff5bd-2ddc-4f4c-b836-b6a9f2c8123b"
      },
      "execution_count": 131,
      "outputs": [
        {
          "output_type": "stream",
          "name": "stdout",
          "text": [
            "H\n",
            "e\n",
            "l\n",
            "l\n",
            "o\n",
            " \n",
            "W\n",
            "o\n",
            "r\n",
            "l\n",
            "d\n"
          ]
        }
      ]
    },
    {
      "cell_type": "markdown",
      "source": [
        "**String Methods**"
      ],
      "metadata": {
        "id": "uD1W2N0P1LKv"
      }
    },
    {
      "cell_type": "code",
      "source": [
        "# Converting to lowercase and uppercase\n",
        "print(\"Hello\".lower())\n",
        "print(\"Hello\".upper())"
      ],
      "metadata": {
        "colab": {
          "base_uri": "https://localhost:8080/"
        },
        "id": "u5Vh-OHQ2P9-",
        "outputId": "57b033b0-e221-4c96-97d1-3181e592f631"
      },
      "execution_count": 134,
      "outputs": [
        {
          "output_type": "stream",
          "name": "stdout",
          "text": [
            "hello\n",
            "HELLO\n"
          ]
        }
      ]
    },
    {
      "cell_type": "code",
      "source": [
        "# Splitting a string\n",
        "print(\"This will split all words in a list\".split())"
      ],
      "metadata": {
        "colab": {
          "base_uri": "https://localhost:8080/"
        },
        "id": "24yoQ8j32TDg",
        "outputId": "083e455c-9128-4eed-8ac5-dcf8ae8fe5e5"
      },
      "execution_count": 135,
      "outputs": [
        {
          "output_type": "stream",
          "name": "stdout",
          "text": [
            "['This', 'will', 'split', 'all', 'words', 'in', 'a', 'list']\n"
          ]
        }
      ]
    },
    {
      "cell_type": "code",
      "source": [
        "# Joining a list of words into a string\n",
        "print(' '.join(['This', 'will', 'split', 'all', 'words', 'in', 'a', 'list']))"
      ],
      "metadata": {
        "colab": {
          "base_uri": "https://localhost:8080/"
        },
        "id": "GZ0T7rGD1N6H",
        "outputId": "f5b0cb90-7c02-410d-afc4-b5cc2e73a794"
      },
      "execution_count": 133,
      "outputs": [
        {
          "output_type": "stream",
          "name": "stdout",
          "text": [
            "This will split all words in a list\n"
          ]
        }
      ]
    },
    {
      "cell_type": "code",
      "source": [
        "# Finding a substring\n",
        "print(\"Good Morning\".find(\"Mo\"))"
      ],
      "metadata": {
        "colab": {
          "base_uri": "https://localhost:8080/"
        },
        "id": "2rNsiPlt2b5Z",
        "outputId": "9f790394-4099-416c-b70d-4a48f72c8d2a"
      },
      "execution_count": 137,
      "outputs": [
        {
          "output_type": "stream",
          "name": "stdout",
          "text": [
            "5\n"
          ]
        }
      ]
    },
    {
      "cell_type": "code",
      "source": [
        "# Replacing a substring\n",
        "s1 = \"Bad morning\"\n",
        "s2 = s1.replace(\"Bad\", \"Good\")\n",
        "print(s1)\n",
        "print(s2)"
      ],
      "metadata": {
        "colab": {
          "base_uri": "https://localhost:8080/"
        },
        "id": "g0AWU7cn2hqV",
        "outputId": "8f7111e8-7803-4125-eff1-655754342bcf"
      },
      "execution_count": 138,
      "outputs": [
        {
          "output_type": "stream",
          "name": "stdout",
          "text": [
            "Bad morning\n",
            "Good morning\n"
          ]
        }
      ]
    },
    {
      "cell_type": "markdown",
      "source": [
        "**Sorting Words in Alphabetic Order**"
      ],
      "metadata": {
        "id": "DzAUDmwX1UUE"
      }
    },
    {
      "cell_type": "code",
      "source": [
        "myStr = \"python Program to Sort words in Alphabetic Order\"\n",
        "words = myStr.split()\n",
        "words.sort()\n",
        "for word in words:\n",
        "    print(word)"
      ],
      "metadata": {
        "colab": {
          "base_uri": "https://localhost:8080/"
        },
        "id": "reITzSGG1V3g",
        "outputId": "68a11c7a-a5e0-4feb-a938-80e807236226"
      },
      "execution_count": 132,
      "outputs": [
        {
          "output_type": "stream",
          "name": "stdout",
          "text": [
            "Alphabetic\n",
            "Order\n",
            "Program\n",
            "Sort\n",
            "in\n",
            "python\n",
            "to\n",
            "words\n"
          ]
        }
      ]
    }
  ]
}