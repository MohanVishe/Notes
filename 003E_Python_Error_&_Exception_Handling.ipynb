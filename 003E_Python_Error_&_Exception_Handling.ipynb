{
  "nbformat": 4,
  "nbformat_minor": 0,
  "metadata": {
    "colab": {
      "provenance": [],
      "authorship_tag": "ABX9TyO55cv3ouomSycriFx99lEn",
      "include_colab_link": true
    },
    "kernelspec": {
      "name": "python3",
      "display_name": "Python 3"
    },
    "language_info": {
      "name": "python"
    }
  },
  "cells": [
    {
      "cell_type": "markdown",
      "metadata": {
        "id": "view-in-github",
        "colab_type": "text"
      },
      "source": [
        "<a href=\"https://colab.research.google.com/github/MohanVishe/Notes/blob/main/003E_Python_Error_%26_Exception_Handling.ipynb\" target=\"_parent\"><img src=\"https://colab.research.google.com/assets/colab-badge.svg\" alt=\"Open In Colab\"/></a>"
      ]
    },
    {
      "cell_type": "markdown",
      "source": [
        "# Python Error and Exception Handling\n",
        "\n",
        "Error and exception handling is a crucial part of Python programming, allowing you to deal with unexpected situations and prevent your program from crashing. Python provides a robust mechanism to catch and handle exceptions, making your code more reliable and user-friendly.\n",
        "\n",
        "## Errors vs. Exceptions\n",
        "\n",
        "In Python, errors are typically classified into two main categories: **syntax errors** and **runtime errors (exceptions)**."
      ],
      "metadata": {
        "id": "7Sf89ywnc7m5"
      }
    },
    {
      "cell_type": "markdown",
      "source": [
        "a. Source Code -\n",
        "b. Compailer (syntax Error/compailer Error) -\n",
        "c. Byte Code -\n",
        "e. Interpreter (Runtime Error)"
      ],
      "metadata": {
        "id": "x3G18yuukc-t"
      }
    },
    {
      "cell_type": "markdown",
      "source": [
        "### 1. **Syntax Errors**:\n",
        "   - Occur when the code violates the rules of the Python language.\n",
        "   - Examples include missing colons, unmatched parentheses, or invalid variable names.\n",
        "   - These errors prevent your program from running.\n",
        "\n",
        "   Example:"
      ],
      "metadata": {
        "id": "df-cWTtjc-fJ"
      }
    },
    {
      "cell_type": "code",
      "source": [
        "print(\"Hello, world\""
      ],
      "metadata": {
        "colab": {
          "base_uri": "https://localhost:8080/",
          "height": 141
        },
        "id": "DaAi-yekdBPW",
        "outputId": "9ce473b8-f039-4dae-dc13-dd9263c3adc4"
      },
      "execution_count": null,
      "outputs": [
        {
          "output_type": "error",
          "ename": "SyntaxError",
          "evalue": "ignored",
          "traceback": [
            "\u001b[0;36m  File \u001b[0;32m\"<ipython-input-1-c9a850cc8b3a>\"\u001b[0;36m, line \u001b[0;32m1\u001b[0m\n\u001b[0;31m    print(\"Hello, world\"\u001b[0m\n\u001b[0m                        ^\u001b[0m\n\u001b[0;31mSyntaxError\u001b[0m\u001b[0;31m:\u001b[0m incomplete input\n"
          ]
        }
      ]
    },
    {
      "cell_type": "markdown",
      "source": [
        "### 2. **Runtime Errors (Exceptions)**:\n",
        "   - Occur during program execution.\n",
        "   - Can be handled using try-except blocks.\n",
        "   - Common exceptions include `ZeroDivisionError`, `TypeError`, `ValueError`, etc."
      ],
      "metadata": {
        "id": "cTnZ2weVdHJg"
      }
    },
    {
      "cell_type": "code",
      "source": [
        "# ZeroDivisionError\n",
        "\n",
        "n = 10\n",
        "d = 0\n",
        "result = n / d"
      ],
      "metadata": {
        "colab": {
          "base_uri": "https://localhost:8080/",
          "height": 210
        },
        "id": "U93ZEg56dwLy",
        "outputId": "7b014b6e-9f79-457d-bcf6-c91a7a9f6cd7"
      },
      "execution_count": null,
      "outputs": [
        {
          "output_type": "error",
          "ename": "ZeroDivisionError",
          "evalue": "ignored",
          "traceback": [
            "\u001b[0;31m---------------------------------------------------------------------------\u001b[0m",
            "\u001b[0;31mZeroDivisionError\u001b[0m                         Traceback (most recent call last)",
            "\u001b[0;32m<ipython-input-3-a771e62f7254>\u001b[0m in \u001b[0;36m<cell line: 6>\u001b[0;34m()\u001b[0m\n\u001b[1;32m      4\u001b[0m \u001b[0mn\u001b[0m \u001b[0;34m=\u001b[0m \u001b[0;36m10\u001b[0m\u001b[0;34m\u001b[0m\u001b[0;34m\u001b[0m\u001b[0m\n\u001b[1;32m      5\u001b[0m \u001b[0md\u001b[0m \u001b[0;34m=\u001b[0m \u001b[0;36m0\u001b[0m\u001b[0;34m\u001b[0m\u001b[0;34m\u001b[0m\u001b[0m\n\u001b[0;32m----> 6\u001b[0;31m \u001b[0mresult\u001b[0m \u001b[0;34m=\u001b[0m \u001b[0mn\u001b[0m \u001b[0;34m/\u001b[0m \u001b[0md\u001b[0m\u001b[0;34m\u001b[0m\u001b[0;34m\u001b[0m\u001b[0m\n\u001b[0m",
            "\u001b[0;31mZeroDivisionError\u001b[0m: division by zero"
          ]
        }
      ]
    },
    {
      "cell_type": "code",
      "source": [
        "# TypeError\n",
        "\n",
        "x=\"10\"\n",
        "y=2\n",
        "z=x+y"
      ],
      "metadata": {
        "colab": {
          "base_uri": "https://localhost:8080/",
          "height": 210
        },
        "id": "AQTrqKzQeJZz",
        "outputId": "7066702c-8d4e-4b5f-920e-58e70a102baa"
      },
      "execution_count": null,
      "outputs": [
        {
          "output_type": "error",
          "ename": "TypeError",
          "evalue": "ignored",
          "traceback": [
            "\u001b[0;31m---------------------------------------------------------------------------\u001b[0m",
            "\u001b[0;31mTypeError\u001b[0m                                 Traceback (most recent call last)",
            "\u001b[0;32m<ipython-input-4-c9b36bf5eb6c>\u001b[0m in \u001b[0;36m<cell line: 5>\u001b[0;34m()\u001b[0m\n\u001b[1;32m      3\u001b[0m \u001b[0mx\u001b[0m\u001b[0;34m=\u001b[0m\u001b[0;34m\"10\"\u001b[0m\u001b[0;34m\u001b[0m\u001b[0;34m\u001b[0m\u001b[0m\n\u001b[1;32m      4\u001b[0m \u001b[0my\u001b[0m\u001b[0;34m=\u001b[0m\u001b[0;36m2\u001b[0m\u001b[0;34m\u001b[0m\u001b[0;34m\u001b[0m\u001b[0m\n\u001b[0;32m----> 5\u001b[0;31m \u001b[0mz\u001b[0m\u001b[0;34m=\u001b[0m\u001b[0mx\u001b[0m\u001b[0;34m+\u001b[0m\u001b[0my\u001b[0m\u001b[0;34m\u001b[0m\u001b[0;34m\u001b[0m\u001b[0m\n\u001b[0m",
            "\u001b[0;31mTypeError\u001b[0m: can only concatenate str (not \"int\") to str"
          ]
        }
      ]
    },
    {
      "cell_type": "markdown",
      "source": [
        "#### Note:\n",
        "Exception are  divided into class and sub class so we can use specific type of exception by using the subclass name"
      ],
      "metadata": {
        "id": "Og13pTM8lg5R"
      }
    },
    {
      "cell_type": "markdown",
      "source": [
        "![image.png](data:image/png;base64,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)"
      ],
      "metadata": {
        "id": "vqp9iv1Yj7pl"
      }
    },
    {
      "cell_type": "markdown",
      "source": [
        "<p><strong>Here's a brief description of each exception:</strong></p>\n",
        "<ol>\n",
        "<li><strong><code>BaseException</code>:</strong> The base class for all built-in exceptions.</li>\n",
        "<li><strong><code>Exception</code>:</strong> The base class for all non-exit exceptions.</li>\n",
        "<li><strong><code>ArithmeticError</code>:</strong> Raised for any arithmetic errors.</li>\n",
        "<li><strong><code>BufferError</code>:</strong> Raised when operations on a buffer are not possible.</li>\n",
        "<li><strong><code>LookupError</code>:</strong> Raised when a mapping (dictionary) key or sequence index is not found.</li>\n",
        "<li><strong><code>AssertionError</code>:</strong> Raised when an <code>assert</code> statement fails.</li>\n",
        "<li><strong><code>AttributeError</code>:</strong> Raised when attribute reference or assignment fails.</li>\n",
        "<li><strong><code>EOFError</code>:</strong> Raised when the <code>input()</code> function hits an end-of-file condition (EOF).</li>\n",
        "<li><strong><code>FloatingPointError</code>:</strong> Raised when a floating point operation fails.</li>\n",
        "<li><strong><code>GeneratorExit</code>:</strong> Raised when a generator or coroutine is closed.</li>\n",
        "<li><strong><code>ImportError</code>:</strong> Raised when the <code>import</code> statement fails to find the module definition.</li>\n",
        "<li><strong><code>ModuleNotFoundError</code>:</strong> A subclass of <code>ImportError</code>, raised when an <code>import</code> statement fails to find the module.</li>\n",
        "<li><strong><code>IndexError</code>:</strong> Raised when a sequence subscript (index) is out of range.</li>\n",
        "<li><strong><code>KeyError</code>:</strong> Raised when a dictionary key is not found.</li>\n",
        "<li><strong><code>KeyboardInterrupt</code>:</strong> Raised when the user interrupts program execution (usually by pressing Ctrl+C).</li>\n",
        "<li><strong><code>MemoryError</code>:</strong> Raised when an operation runs out of memory.</li>\n",
        "<li><strong><code>NameError</code>:</strong> Raised when a local or global name is not found.</li>\n",
        "<li><strong><code>NotImplementedError</code>:</strong> Raised when an abstract method requiring an override in an inherited class is not provided.</li>\n",
        "<li><strong><code>OSError</code>:</strong> Raised when a system-related error occurs.</li>\n",
        "<li><strong><code>OverflowError</code>:</strong> Raised when the result of an arithmetic operation is too large to be expressed.</li>\n",
        "<li><strong><code>RecursionError</code>:</strong> Raised when the maximum recursion depth has been exceeded.</li>\n",
        "<li><strong><code>ReferenceError</code>:</strong> Raised when a weak reference proxy is used to access a garbage collected referent.</li>\n",
        "<li><strong><code>RuntimeError</code>:</strong> Raised when an error is detected that doesn&rsquo;t fall in any of the other categories.</li>\n",
        "<li><strong><code>StopIteration</code>:</strong> Raised by built-in function <code>next()</code> and an iterator&lsquo;s <code>__next__()</code> method to signal that there are no further items.</li>\n",
        "<li><strong><code>StopAsyncIteration</code>:</strong> Raised by an asynchronous iterator object&rsquo;s <code>__anext__()</code> method to stop the iteration.</li>\n",
        "<li><strong><code>SyntaxError</code>:</strong> Raised by the parser when a syntax error is encountered.</li>\n",
        "<li><strong><code>IndentationError</code>:</strong> Raised when there is incorrect indentation.</li>\n",
        "<li><strong><code>TabError</code>:</strong> Raised when indentation contains mixed tabs and spaces.</li>\n",
        "<li><strong><code>SystemError</code>:</strong> Raised when the interpreter finds an internal problem.</li>\n",
        "<li><strong><code>SystemExit</code>:</strong> Raised by the <code>sys.exit()</code> function.</li>\n",
        "<li><strong><code>TypeError</code>:</strong> Raised when an operation or function is applied to an object of inappropriate type.</li>\n",
        "<li><strong><code>UnboundLocalError</code>:</strong> Raised when a local variable is referenced before it has been assigned a value.</li>\n",
        "<li><strong><code>UnicodeError</code>:</strong> Raised when a Unicode-related encoding or decoding error occurs.</li>\n",
        "<li><strong><code>UnicodeEncodeError</code>:</strong> Raised when a Unicode-related error occurs during encoding.</li>\n",
        "<li><strong><code>UnicodeDecodeError</code>:</strong> Raised when a Unicode-related error occurs during decoding.</li>\n",
        "<li><strong><code>UnicodeTranslateError</code>:</strong> Raised when a Unicode-related error occurs during translating.</li>\n",
        "<li><strong><code>ValueError</code>:</strong> Raised when a built-in operation or function receives an argument that has the right type but an inappropriate value.</li>\n",
        "<li><strong><code>ZeroDivisionError</code>:</strong> Raised when the second argument of a division or modulo operation is zero.</li>\n",
        "<li><strong><code>EnvironmentError</code>:</strong> Base class for exceptions that can occur outside the Python system.</li>\n",
        "<li><strong><code>IOError</code>:</strong> Raised when an I/O operation (such as a print statement, the built-in open() function or a method of a file object)</li>\n",
        "</ol>"
      ],
      "metadata": {
        "id": "FHMgt11HjyKX"
      }
    },
    {
      "cell_type": "markdown",
      "source": [
        "## **Exception Handling**\n",
        "To handle exceptions, we use a `try-except` block. The `try` block contains code that might raise an exception, and the `except` block contains code to handle that exception if it occurs."
      ],
      "metadata": {
        "id": "Cx9-PDGXmKAP"
      }
    },
    {
      "cell_type": "markdown",
      "source": [
        "### **1. Basic Format**"
      ],
      "metadata": {
        "id": "xaphYmf-oPVj"
      }
    },
    {
      "cell_type": "code",
      "source": [
        "try:\n",
        "  #  do operations here\n",
        "except:\n",
        "  # If there is an exception, then execute this block.\n",
        "else:\n",
        "  # If there is no exception then execute this block\n",
        "finally:\n",
        "  # This code block will always be executed"
      ],
      "metadata": {
        "id": "o14hzZc9mXM2"
      },
      "execution_count": null,
      "outputs": []
    },
    {
      "cell_type": "markdown",
      "source": [
        "Example 1"
      ],
      "metadata": {
        "id": "KUpkKnddohI4"
      }
    },
    {
      "cell_type": "code",
      "source": [
        "try:\n",
        "  print(10+10)\n",
        "except:\n",
        "  print(\"Some error is occured\")"
      ],
      "metadata": {
        "colab": {
          "base_uri": "https://localhost:8080/"
        },
        "id": "gIPTGCE0ojVP",
        "outputId": "65b3bada-dc50-4283-9a77-c43967654a53"
      },
      "execution_count": null,
      "outputs": [
        {
          "output_type": "stream",
          "name": "stdout",
          "text": [
            "20\n"
          ]
        }
      ]
    },
    {
      "cell_type": "markdown",
      "source": [
        "Example 2"
      ],
      "metadata": {
        "id": "6H-mKLPEo50h"
      }
    },
    {
      "cell_type": "code",
      "source": [
        "try:\n",
        "  print(10+\"10\")  # we cannot add str and int\n",
        "except:\n",
        "  print(\"Some error is occured\")"
      ],
      "metadata": {
        "colab": {
          "base_uri": "https://localhost:8080/"
        },
        "id": "v5Le8ugeo4UC",
        "outputId": "95281332-46d6-407e-c301-ed1ed2fed51f"
      },
      "execution_count": null,
      "outputs": [
        {
          "output_type": "stream",
          "name": "stdout",
          "text": [
            "Some error is occured\n"
          ]
        }
      ]
    },
    {
      "cell_type": "markdown",
      "source": [
        "Example 3"
      ],
      "metadata": {
        "id": "sV3P81dzpiJz"
      }
    },
    {
      "cell_type": "code",
      "source": [
        "try :\n",
        "  print(10+10)\n",
        "except:\n",
        "  print(\"Some error is occured\")\n",
        "else:\n",
        "  print(\"No error is occured\")"
      ],
      "metadata": {
        "colab": {
          "base_uri": "https://localhost:8080/"
        },
        "id": "VevqZJ0CpkZL",
        "outputId": "ce70b716-54b0-4015-9b6c-29c9bb8bfd0e"
      },
      "execution_count": null,
      "outputs": [
        {
          "output_type": "stream",
          "name": "stdout",
          "text": [
            "20\n",
            "No error is occured\n"
          ]
        }
      ]
    },
    {
      "cell_type": "markdown",
      "source": [
        "Example 4"
      ],
      "metadata": {
        "id": "lY_5b6Z3p0Jc"
      }
    },
    {
      "cell_type": "code",
      "source": [
        "try :\n",
        "  print(10+\"10\")\n",
        "except:\n",
        "  print(\"Some error is occured\")\n",
        "else:\n",
        "  print(\"No error is occured\")\n",
        "finally:\n",
        "  print(\"The Program is ended\")"
      ],
      "metadata": {
        "colab": {
          "base_uri": "https://localhost:8080/"
        },
        "id": "YSRsSW_zp2v5",
        "outputId": "78d2de16-0479-4175-dcbd-92c8298d040e"
      },
      "execution_count": null,
      "outputs": [
        {
          "output_type": "stream",
          "name": "stdout",
          "text": [
            "Some error is occured\n",
            "The Program is ended\n"
          ]
        }
      ]
    },
    {
      "cell_type": "markdown",
      "source": [
        "Example 5"
      ],
      "metadata": {
        "id": "Mn3wq83fqeia"
      }
    },
    {
      "cell_type": "code",
      "source": [
        "try :\n",
        "  print(10+10)\n",
        "except:\n",
        "  print(\"Some error is occured\")\n",
        "else:\n",
        "  print(\"No error is occured\")\n",
        "finally:\n",
        "  print(\"The Program is ended\")"
      ],
      "metadata": {
        "colab": {
          "base_uri": "https://localhost:8080/"
        },
        "id": "MGWkb0zYqgnE",
        "outputId": "20893d0f-c954-4436-c53f-132c44f05ebc"
      },
      "execution_count": null,
      "outputs": [
        {
          "output_type": "stream",
          "name": "stdout",
          "text": [
            "20\n",
            "No error is occured\n",
            "The Program is ended\n"
          ]
        }
      ]
    },
    {
      "cell_type": "markdown",
      "source": [
        "### **2.Specific Exception**\n",
        "This is not a good programming practice as it will catch all exceptions and handle every case in the same way. We can specify which exceptions an except clause will catch.\n",
        "A try clause can have any number of except clause to handle them differently but only one will be executed in case an exception occurs\n",
        "\n"
      ],
      "metadata": {
        "id": "Vj2BMojgrEdZ"
      }
    },
    {
      "cell_type": "markdown",
      "source": [
        "#### Format\n",
        "\n",
        "* In this format using exception child class always before parent class so that it will execute 1st."
      ],
      "metadata": {
        "id": "dhk5gyz3ryQM"
      }
    },
    {
      "cell_type": "code",
      "source": [
        "try:\n",
        "  # Do operation here\n",
        "except ExceptionI:\n",
        "  # If there is ExceptionI then execute this block\n",
        "except ExceptionII:\n",
        "  # If there is ExceptionII then execute this block\n",
        "except:\n",
        "  # If there is any other Exception excluding above exception the execute this block.\n",
        "else:\n",
        "  # If there is no exception then execute this block\n",
        "finally :\n",
        "  # Always execute this block"
      ],
      "metadata": {
        "id": "HjnmW_Utrw4H"
      },
      "execution_count": null,
      "outputs": []
    },
    {
      "cell_type": "markdown",
      "source": [
        "* Example 1"
      ],
      "metadata": {
        "id": "6p18en3CuTdx"
      }
    },
    {
      "cell_type": "code",
      "source": [
        "try:\n",
        "    result = 10 / 0  # Raises a ZeroDivisionError\n",
        "except ZeroDivisionError:\n",
        "    # Code to handle the exception\n",
        "    print(\"Division by zero is not allowed\")"
      ],
      "metadata": {
        "colab": {
          "base_uri": "https://localhost:8080/"
        },
        "id": "EX-lFusGt9uv",
        "outputId": "d4239375-0d0f-4d9b-fe73-c5192dea85b2"
      },
      "execution_count": null,
      "outputs": [
        {
          "output_type": "stream",
          "name": "stdout",
          "text": [
            "Division by zero is not allowed\n"
          ]
        }
      ]
    },
    {
      "cell_type": "markdown",
      "source": [
        "* Example2 : **Multiple Exceptions**\n",
        "\n",
        "You can handle multiple exceptions using multiple `except` blocks or a single `except` block with multiple exception types in a tuple."
      ],
      "metadata": {
        "id": "ilGpaJevuQ3e"
      }
    },
    {
      "cell_type": "code",
      "source": [
        "try:\n",
        "    result = int(\"abc\")  # Raises a ValueError\n",
        "except (ZeroDivisionError, ValueError):\n",
        "    # Code to handle the exceptions\n",
        "    print(\"An error occurred\")"
      ],
      "metadata": {
        "colab": {
          "base_uri": "https://localhost:8080/"
        },
        "id": "FwQA07w5ueck",
        "outputId": "24407df9-a989-43c6-8e22-bbd207efdca8"
      },
      "execution_count": null,
      "outputs": [
        {
          "output_type": "stream",
          "name": "stdout",
          "text": [
            "An error occurred\n"
          ]
        }
      ]
    },
    {
      "cell_type": "markdown",
      "source": [
        "* Example 3: **Handling All Exceptions**\n",
        "\n",
        "You can use a generic `except` block to catch all exceptions. However, this should be used sparingly, as it may hide unexpected issues."
      ],
      "metadata": {
        "id": "c9vIWS5-uzSY"
      }
    },
    {
      "cell_type": "code",
      "source": [
        "try:\n",
        "    result = 10 / 0  # Raises a ZeroDivisionError\n",
        "except Exception as e:\n",
        "    # Code to handle any exception\n",
        "    print(f\"An error occurred: {e}\")"
      ],
      "metadata": {
        "colab": {
          "base_uri": "https://localhost:8080/"
        },
        "id": "lFcUHaypu72r",
        "outputId": "13b32502-b7ca-4b3e-87f7-e4c75d395042"
      },
      "execution_count": null,
      "outputs": [
        {
          "output_type": "stream",
          "name": "stdout",
          "text": [
            "An error occurred: division by zero\n"
          ]
        }
      ]
    },
    {
      "cell_type": "markdown",
      "source": [
        "* Example 4"
      ],
      "metadata": {
        "id": "ziAmVDh0xhMv"
      }
    },
    {
      "cell_type": "code",
      "source": [
        "lst = ['b', 0, 2]\n",
        "for entry in lst:\n",
        "  try:\n",
        "    print(\"****************************\")\n",
        "    print(\"The entry is\", entry)\n",
        "    r = 1 / int(entry)\n",
        "  except(ValueError):\n",
        "    print(\"This is a ValueError.\")\n",
        "  except(ZeroDivisionError):\n",
        "    print(\"This is a ZeroError.\")\n",
        "  except:\n",
        "    print(\"Some other error\")\n",
        "  finally:\n",
        "    print(\"Done\")\n",
        "\n",
        "print(\"The reciprocal of\", entry, \"is\", r)"
      ],
      "metadata": {
        "id": "OOZvQM_TxoFv",
        "colab": {
          "base_uri": "https://localhost:8080/"
        },
        "outputId": "a648434a-8154-48d3-d2ae-f6c603edb65b"
      },
      "execution_count": null,
      "outputs": [
        {
          "output_type": "stream",
          "name": "stdout",
          "text": [
            "****************************\n",
            "The entry is b\n",
            "This is a ValueError.\n",
            "Done\n",
            "****************************\n",
            "The entry is 0\n",
            "This is a ZeroError.\n",
            "Done\n",
            "****************************\n",
            "The entry is 2\n",
            "Done\n",
            "The reciprocal of 2 is 0.5\n"
          ]
        }
      ]
    },
    {
      "cell_type": "markdown",
      "source": [
        "* Example 5: File handling"
      ],
      "metadata": {
        "id": "RRfp6W-VvUJZ"
      }
    },
    {
      "cell_type": "code",
      "source": [
        "try:\n",
        "  f=open(\"domo_file\",\"r\")\n",
        "  f.write(\"Test write this\")\n",
        "except IOError:\n",
        "  # This is only check for an IOError Exception\n",
        "  # then execute this print statement\n",
        "  print(\"Error:could not find file or read data\")\n",
        "except:\n",
        "  # If any other error is occured excluding above error\n",
        "  print(\"Error\")\n",
        "else:\n",
        "  # if there is no error occured\n",
        "  print(\"We are ready to do other Operation\")\n",
        "finally:\n",
        "  # Even if any error occured or not we can close or save the file\n",
        "  f.close()"
      ],
      "metadata": {
        "colab": {
          "base_uri": "https://localhost:8080/"
        },
        "id": "jWvy7wCivgFH",
        "outputId": "99d5038e-14e4-4cbe-d88a-5c111ba2e76c"
      },
      "execution_count": null,
      "outputs": [
        {
          "output_type": "stream",
          "name": "stdout",
          "text": [
            "Error:could not find file or read data\n"
          ]
        }
      ]
    },
    {
      "cell_type": "markdown",
      "source": [
        "* Example 6"
      ],
      "metadata": {
        "id": "4yHxVmg2VnDB"
      }
    },
    {
      "cell_type": "code",
      "source": [
        "import sys\n",
        "\n",
        "lst = ['b', 0, 2]\n",
        "for entry in lst:\n",
        "  try:\n",
        "    print(\"The entry is\", entry)\n",
        "    r = 1 / int(entry)\n",
        "  except:\n",
        "    print(\"Oops!\", sys.exc_info()[:2],\"occured.\")\n",
        "    print(\"***************************\")"
      ],
      "metadata": {
        "colab": {
          "base_uri": "https://localhost:8080/"
        },
        "id": "donX7GcsVqQG",
        "outputId": "8704d291-2052-44b4-8a9e-1fa88538fba3"
      },
      "execution_count": null,
      "outputs": [
        {
          "output_type": "stream",
          "name": "stdout",
          "text": [
            "The entry is b\n",
            "Oops! (<class 'ValueError'>, ValueError(\"invalid literal for int() with base 10: 'b'\")) occured.\n",
            "***************************\n",
            "The entry is 0\n",
            "Oops! (<class 'ZeroDivisionError'>, ZeroDivisionError('division by zero')) occured.\n",
            "***************************\n",
            "The entry is 2\n"
          ]
        }
      ]
    },
    {
      "cell_type": "markdown",
      "source": [
        "### **3.Raising an Exception :** **raise**"
      ],
      "metadata": {
        "id": "8SZlxka9la98"
      }
    },
    {
      "cell_type": "markdown",
      "source": [
        "* Example 1"
      ],
      "metadata": {
        "id": "FAkWcXovnQfX"
      }
    },
    {
      "cell_type": "code",
      "source": [
        "a=0\n",
        "if a==0:\n",
        "  raise Exception(\"The value of a is 0\")"
      ],
      "metadata": {
        "colab": {
          "base_uri": "https://localhost:8080/",
          "height": 210
        },
        "id": "IxEesFlxuq3w",
        "outputId": "897cb8c0-ecd0-46a2-9a31-cf7df8dceecd"
      },
      "execution_count": null,
      "outputs": [
        {
          "output_type": "error",
          "ename": "Exception",
          "evalue": "ignored",
          "traceback": [
            "\u001b[0;31m---------------------------------------------------------------------------\u001b[0m",
            "\u001b[0;31mException\u001b[0m                                 Traceback (most recent call last)",
            "\u001b[0;32m<ipython-input-27-90f15c8c1e1e>\u001b[0m in \u001b[0;36m<cell line: 2>\u001b[0;34m()\u001b[0m\n\u001b[1;32m      1\u001b[0m \u001b[0ma\u001b[0m\u001b[0;34m=\u001b[0m\u001b[0;36m0\u001b[0m\u001b[0;34m\u001b[0m\u001b[0;34m\u001b[0m\u001b[0m\n\u001b[1;32m      2\u001b[0m \u001b[0;32mif\u001b[0m \u001b[0ma\u001b[0m\u001b[0;34m==\u001b[0m\u001b[0;36m0\u001b[0m\u001b[0;34m:\u001b[0m\u001b[0;34m\u001b[0m\u001b[0;34m\u001b[0m\u001b[0m\n\u001b[0;32m----> 3\u001b[0;31m   \u001b[0;32mraise\u001b[0m \u001b[0mException\u001b[0m\u001b[0;34m(\u001b[0m\u001b[0;34m\"The value of a is 0\"\u001b[0m\u001b[0;34m)\u001b[0m\u001b[0;34m\u001b[0m\u001b[0;34m\u001b[0m\u001b[0m\n\u001b[0m",
            "\u001b[0;31mException\u001b[0m: The value of a is 0"
          ]
        }
      ]
    },
    {
      "cell_type": "code",
      "source": [
        "try :\n",
        "  a=0\n",
        "  if a==0:\n",
        "    raise\n",
        "except:\n",
        "  print(\"Error: The number should not be zero\")"
      ],
      "metadata": {
        "colab": {
          "base_uri": "https://localhost:8080/"
        },
        "id": "-enysaXil1lD",
        "outputId": "e73c9c33-0ac1-4198-a340-1bf8b7330b5d"
      },
      "execution_count": null,
      "outputs": [
        {
          "output_type": "stream",
          "name": "stdout",
          "text": [
            "Error: The number should not be zero\n"
          ]
        }
      ]
    },
    {
      "cell_type": "code",
      "source": [
        "try:\n",
        "  a=0\n",
        "  if a==0:\n",
        "    raise Exception(f\"Error: The number Entered is {a}\")\n",
        "except Exception as ex:\n",
        "  print(ex)"
      ],
      "metadata": {
        "colab": {
          "base_uri": "https://localhost:8080/"
        },
        "id": "TdbdwtOpqh4t",
        "outputId": "57ab8dc2-0137-4bda-f7c9-4af134882429"
      },
      "execution_count": null,
      "outputs": [
        {
          "output_type": "stream",
          "name": "stdout",
          "text": [
            "Error: The number Entered is 0\n"
          ]
        }
      ]
    },
    {
      "cell_type": "markdown",
      "source": [
        "* Example 2"
      ],
      "metadata": {
        "id": "P490rq6wrEPD"
      }
    },
    {
      "cell_type": "code",
      "source": [
        "num=int(input(\"Enter Positive Number: \"))\n",
        "if num<0:\n",
        "  raise ValueError(\"The number is negative\")"
      ],
      "metadata": {
        "colab": {
          "base_uri": "https://localhost:8080/",
          "height": 228
        },
        "id": "KL4CbAF-w3aq",
        "outputId": "e202ed33-8ab7-49e6-bb4d-af20a94c11cd"
      },
      "execution_count": null,
      "outputs": [
        {
          "name": "stdout",
          "output_type": "stream",
          "text": [
            "Enter Positive Number: -20\n"
          ]
        },
        {
          "output_type": "error",
          "ename": "ValueError",
          "evalue": "ignored",
          "traceback": [
            "\u001b[0;31m---------------------------------------------------------------------------\u001b[0m",
            "\u001b[0;31mValueError\u001b[0m                                Traceback (most recent call last)",
            "\u001b[0;32m<ipython-input-29-efd24f936b82>\u001b[0m in \u001b[0;36m<cell line: 2>\u001b[0;34m()\u001b[0m\n\u001b[1;32m      1\u001b[0m \u001b[0mnum\u001b[0m\u001b[0;34m=\u001b[0m\u001b[0mint\u001b[0m\u001b[0;34m(\u001b[0m\u001b[0minput\u001b[0m\u001b[0;34m(\u001b[0m\u001b[0;34m\"Enter Positive Number: \"\u001b[0m\u001b[0;34m)\u001b[0m\u001b[0;34m)\u001b[0m\u001b[0;34m\u001b[0m\u001b[0;34m\u001b[0m\u001b[0m\n\u001b[1;32m      2\u001b[0m \u001b[0;32mif\u001b[0m \u001b[0mnum\u001b[0m\u001b[0;34m<\u001b[0m\u001b[0;36m0\u001b[0m\u001b[0;34m:\u001b[0m\u001b[0;34m\u001b[0m\u001b[0;34m\u001b[0m\u001b[0m\n\u001b[0;32m----> 3\u001b[0;31m   \u001b[0;32mraise\u001b[0m \u001b[0mValueError\u001b[0m\u001b[0;34m(\u001b[0m\u001b[0;34m\"The number is negative\"\u001b[0m\u001b[0;34m)\u001b[0m\u001b[0;34m\u001b[0m\u001b[0;34m\u001b[0m\u001b[0m\n\u001b[0m",
            "\u001b[0;31mValueError\u001b[0m: The number is negative"
          ]
        }
      ]
    },
    {
      "cell_type": "code",
      "source": [
        "try:\n",
        "  num=int(input(\"Enter Positive Number: \"))\n",
        "  if num<0:\n",
        "    raise ValueError\n",
        "except ValueError:\n",
        "  print(\"The number is negative\")"
      ],
      "metadata": {
        "colab": {
          "base_uri": "https://localhost:8080/"
        },
        "id": "FBE1vD-tp_jI",
        "outputId": "88ea228f-1d8f-4989-a114-990e1b8595ea"
      },
      "execution_count": null,
      "outputs": [
        {
          "output_type": "stream",
          "name": "stdout",
          "text": [
            "Enter Positive Number: -10\n",
            "The number is negative\n"
          ]
        }
      ]
    },
    {
      "cell_type": "code",
      "source": [
        "try:\n",
        "  num= int(input(\"Enter Positive number :\"))\n",
        "  if num<=0:\n",
        "    raise ValueError(\"Error :The number is negative\")\n",
        "except ValueError as e:\n",
        "  print(e)"
      ],
      "metadata": {
        "colab": {
          "base_uri": "https://localhost:8080/"
        },
        "id": "AJpqyClVnTm1",
        "outputId": "fd7d40c2-5dc0-4d92-e217-ad3694483c56"
      },
      "execution_count": null,
      "outputs": [
        {
          "output_type": "stream",
          "name": "stdout",
          "text": [
            "Enter Positive number :-5\n",
            "Error :The number is negative\n"
          ]
        }
      ]
    },
    {
      "cell_type": "markdown",
      "source": [
        "### **4.User  Defined Exception:**\n",
        "\n",
        "- You can define your custom exceptions by creating a new class that inherits from the `Exception` class.\n",
        "- The newly created Exception should be ended with \"Error\" similar to naming of standard exceptions in python\n"
      ],
      "metadata": {
        "id": "1DEuCQh-WXdD"
      }
    },
    {
      "cell_type": "markdown",
      "source": [
        "#### Example 1"
      ],
      "metadata": {
        "id": "nNa7K80rSsre"
      }
    },
    {
      "cell_type": "code",
      "execution_count": null,
      "metadata": {
        "id": "jDyqE18EWIxs",
        "colab": {
          "base_uri": "https://localhost:8080/"
        },
        "outputId": "f6a23a43-c3bc-44a8-ea29-96bfd5b8ce45"
      },
      "outputs": [
        {
          "output_type": "stream",
          "name": "stdout",
          "text": [
            "Custom Error: This is a custom exception\n"
          ]
        }
      ],
      "source": [
        "class CustomError(Exception):\n",
        "    def __init__(self, message):\n",
        "        self.message = message\n",
        "\n",
        "try:\n",
        "    # Code that might raise a custom exception\n",
        "    raise CustomError(\"This is a custom exception\")\n",
        "except CustomError as e:\n",
        "    print(f\"Custom Error: {e}\")"
      ]
    },
    {
      "cell_type": "code",
      "source": [
        "raise CustomError(\"This is a custom exception\")"
      ],
      "metadata": {
        "colab": {
          "base_uri": "https://localhost:8080/",
          "height": 175
        },
        "id": "FPBorvkJT5ng",
        "outputId": "86564e07-8866-47f6-cfac-0577f0da870f"
      },
      "execution_count": null,
      "outputs": [
        {
          "output_type": "error",
          "ename": "CustomError",
          "evalue": "ignored",
          "traceback": [
            "\u001b[0;31m---------------------------------------------------------------------------\u001b[0m",
            "\u001b[0;31mCustomError\u001b[0m                               Traceback (most recent call last)",
            "\u001b[0;32m<ipython-input-8-83da86ae8eaa>\u001b[0m in \u001b[0;36m<cell line: 1>\u001b[0;34m()\u001b[0m\n\u001b[0;32m----> 1\u001b[0;31m \u001b[0;32mraise\u001b[0m \u001b[0mCustomError\u001b[0m\u001b[0;34m(\u001b[0m\u001b[0;34m\"This is a custom exception\"\u001b[0m\u001b[0;34m)\u001b[0m\u001b[0;34m\u001b[0m\u001b[0;34m\u001b[0m\u001b[0m\n\u001b[0m",
            "\u001b[0;31mCustomError\u001b[0m: This is a custom exception"
          ]
        }
      ]
    },
    {
      "cell_type": "markdown",
      "source": [
        "#### Example 2"
      ],
      "metadata": {
        "id": "B8sE587vR2Zp"
      }
    },
    {
      "cell_type": "code",
      "source": [
        "# define user-defined exceptions\n",
        "class WrongAge(Exception):\n",
        "    pass"
      ],
      "metadata": {
        "id": "QSlS-72xS4qM"
      },
      "execution_count": null,
      "outputs": []
    },
    {
      "cell_type": "code",
      "source": [
        "input_num = int(input(\"Enter a age: \"))\n",
        "if input_num < 18:\n",
        "  raise WrongAge # calling your custom exception"
      ],
      "metadata": {
        "colab": {
          "base_uri": "https://localhost:8080/",
          "height": 228
        },
        "id": "_mUXHvu2Tn6p",
        "outputId": "95a6ba8a-0684-457f-df49-1c12f1284898"
      },
      "execution_count": null,
      "outputs": [
        {
          "name": "stdout",
          "output_type": "stream",
          "text": [
            "Enter a age: 10\n"
          ]
        },
        {
          "output_type": "error",
          "ename": "WrongAge",
          "evalue": "ignored",
          "traceback": [
            "\u001b[0;31m---------------------------------------------------------------------------\u001b[0m",
            "\u001b[0;31mWrongAge\u001b[0m                                  Traceback (most recent call last)",
            "\u001b[0;32m<ipython-input-5-3fcbbe845008>\u001b[0m in \u001b[0;36m<cell line: 2>\u001b[0;34m()\u001b[0m\n\u001b[1;32m      1\u001b[0m \u001b[0minput_num\u001b[0m \u001b[0;34m=\u001b[0m \u001b[0mint\u001b[0m\u001b[0;34m(\u001b[0m\u001b[0minput\u001b[0m\u001b[0;34m(\u001b[0m\u001b[0;34m\"Enter a age: \"\u001b[0m\u001b[0;34m)\u001b[0m\u001b[0;34m)\u001b[0m\u001b[0;34m\u001b[0m\u001b[0;34m\u001b[0m\u001b[0m\n\u001b[1;32m      2\u001b[0m \u001b[0;32mif\u001b[0m \u001b[0minput_num\u001b[0m \u001b[0;34m<\u001b[0m \u001b[0;36m18\u001b[0m\u001b[0;34m:\u001b[0m\u001b[0;34m\u001b[0m\u001b[0;34m\u001b[0m\u001b[0m\n\u001b[0;32m----> 3\u001b[0;31m   \u001b[0;32mraise\u001b[0m \u001b[0mWrongAge\u001b[0m \u001b[0;31m# calling your custom exception\u001b[0m\u001b[0;34m\u001b[0m\u001b[0;34m\u001b[0m\u001b[0m\n\u001b[0m",
            "\u001b[0;31mWrongAge\u001b[0m: "
          ]
        }
      ]
    },
    {
      "cell_type": "code",
      "source": [
        "try:\n",
        "    input_num = int(input(\"Enter a age: \"))\n",
        "    if input_num < 18:\n",
        "        raise WrongAge # calling your custom exception\n",
        "    else:\n",
        "        print(\"You can work\")\n",
        "except WrongAge:\n",
        "    print(\"Invalid Age: You are not allowed to work\")"
      ],
      "metadata": {
        "colab": {
          "base_uri": "https://localhost:8080/"
        },
        "id": "NOQtqjVBS7f5",
        "outputId": "02e498f2-3618-40cf-f5e8-a4d418cba39a"
      },
      "execution_count": null,
      "outputs": [
        {
          "output_type": "stream",
          "name": "stdout",
          "text": [
            "Enter a age: 10\n",
            "Invalid Age: You are not allowed to work\n"
          ]
        }
      ]
    },
    {
      "cell_type": "markdown",
      "source": [
        "### **5.Assertion**"
      ],
      "metadata": {
        "id": "iGBXscrOW_Dp"
      }
    },
    {
      "cell_type": "markdown",
      "source": [
        "- The `assert` statement is a debugging tool used to check whether a given condition is True during program execution. If the condition is False, the assert statement raises an AssertionError exception.\n",
        "\n",
        "Syntax\n",
        "```python\n",
        "      assert condition, message\n",
        "```\n",
        "\n"
      ],
      "metadata": {
        "id": "qWNXvaAYYayA"
      }
    },
    {
      "cell_type": "code",
      "source": [
        "def divide(a, b):\n",
        "    assert b != 0, \"Division by zero is not allowed\"\n",
        "    return a / b"
      ],
      "metadata": {
        "id": "5ruHTV_pY2HX"
      },
      "execution_count": null,
      "outputs": []
    },
    {
      "cell_type": "code",
      "source": [
        "# Testing the divide function\n",
        "result = divide(10, 2)\n",
        "print(result)"
      ],
      "metadata": {
        "colab": {
          "base_uri": "https://localhost:8080/"
        },
        "id": "DN0vzEodY4Q1",
        "outputId": "2e393738-52c2-454e-e01e-ec403034aeaa"
      },
      "execution_count": null,
      "outputs": [
        {
          "output_type": "stream",
          "name": "stdout",
          "text": [
            "5.0\n"
          ]
        }
      ]
    },
    {
      "cell_type": "code",
      "source": [
        "result = divide(10, 0)  # This will raise an AssertionError\n",
        "print(result)"
      ],
      "metadata": {
        "colab": {
          "base_uri": "https://localhost:8080/",
          "height": 280
        },
        "id": "svbCbIHLgGSx",
        "outputId": "c57b66a7-39f4-4bb8-8641-bdabea2c44dc"
      },
      "execution_count": null,
      "outputs": [
        {
          "output_type": "error",
          "ename": "AssertionError",
          "evalue": "ignored",
          "traceback": [
            "\u001b[0;31m---------------------------------------------------------------------------\u001b[0m",
            "\u001b[0;31mAssertionError\u001b[0m                            Traceback (most recent call last)",
            "\u001b[0;32m<ipython-input-17-4421a852e132>\u001b[0m in \u001b[0;36m<cell line: 1>\u001b[0;34m()\u001b[0m\n\u001b[0;32m----> 1\u001b[0;31m \u001b[0mresult\u001b[0m \u001b[0;34m=\u001b[0m \u001b[0mdivide\u001b[0m\u001b[0;34m(\u001b[0m\u001b[0;36m10\u001b[0m\u001b[0;34m,\u001b[0m \u001b[0;36m0\u001b[0m\u001b[0;34m)\u001b[0m  \u001b[0;31m# This will raise an AssertionError\u001b[0m\u001b[0;34m\u001b[0m\u001b[0;34m\u001b[0m\u001b[0m\n\u001b[0m\u001b[1;32m      2\u001b[0m \u001b[0mprint\u001b[0m\u001b[0;34m(\u001b[0m\u001b[0mresult\u001b[0m\u001b[0;34m)\u001b[0m\u001b[0;34m\u001b[0m\u001b[0;34m\u001b[0m\u001b[0m\n",
            "\u001b[0;32m<ipython-input-15-298b5572c93e>\u001b[0m in \u001b[0;36mdivide\u001b[0;34m(a, b)\u001b[0m\n\u001b[1;32m      1\u001b[0m \u001b[0;32mdef\u001b[0m \u001b[0mdivide\u001b[0m\u001b[0;34m(\u001b[0m\u001b[0ma\u001b[0m\u001b[0;34m,\u001b[0m \u001b[0mb\u001b[0m\u001b[0;34m)\u001b[0m\u001b[0;34m:\u001b[0m\u001b[0;34m\u001b[0m\u001b[0;34m\u001b[0m\u001b[0m\n\u001b[0;32m----> 2\u001b[0;31m     \u001b[0;32massert\u001b[0m \u001b[0mb\u001b[0m \u001b[0;34m!=\u001b[0m \u001b[0;36m0\u001b[0m\u001b[0;34m,\u001b[0m \u001b[0;34m\"Division by zero is not allowed\"\u001b[0m\u001b[0;34m\u001b[0m\u001b[0;34m\u001b[0m\u001b[0m\n\u001b[0m\u001b[1;32m      3\u001b[0m     \u001b[0;32mreturn\u001b[0m \u001b[0ma\u001b[0m \u001b[0;34m/\u001b[0m \u001b[0mb\u001b[0m\u001b[0;34m\u001b[0m\u001b[0;34m\u001b[0m\u001b[0m\n",
            "\u001b[0;31mAssertionError\u001b[0m: Division by zero is not allowed"
          ]
        }
      ]
    }
  ]
}