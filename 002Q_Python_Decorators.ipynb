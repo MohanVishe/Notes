{
  "nbformat": 4,
  "nbformat_minor": 0,
  "metadata": {
    "colab": {
      "provenance": [],
      "authorship_tag": "ABX9TyODnlugHAeC65NxAsFUyR8z",
      "include_colab_link": true
    },
    "kernelspec": {
      "name": "python3",
      "display_name": "Python 3"
    },
    "language_info": {
      "name": "python"
    }
  },
  "cells": [
    {
      "cell_type": "markdown",
      "metadata": {
        "id": "view-in-github",
        "colab_type": "text"
      },
      "source": [
        "<a href=\"https://colab.research.google.com/github/MohanVishe/Notes/blob/main/0020_Decorators.ipynb\" target=\"_parent\"><img src=\"https://colab.research.google.com/assets/colab-badge.svg\" alt=\"Open In Colab\"/></a>"
      ]
    },
    {
      "cell_type": "markdown",
      "source": [
        "#  Decorators"
      ],
      "metadata": {
        "id": "rSAhXGjrTj0D"
      }
    },
    {
      "cell_type": "markdown",
      "source": [
        " 1. They are a powerful concept used to modify or extend the behavior of functions or methods without changing their code. They are often used to add additional functionality to functions, such as logging, authentication, caching, etc., in a clean and reusable way.\n",
        "\n",
        " 2. Decorators are implemented using functions themselves. They take another function as input, add some extra functionality, and then return the modified function. This allows you to \"decorate\" a function with additional behavior without modifying its original source code.\n",
        "\n",
        "Here's a simple example to help illustrate the concept:\n"
      ],
      "metadata": {
        "id": "5sjT6rrcRdeT"
      }
    },
    {
      "cell_type": "code",
      "source": [
        "def  short(a):\n",
        "  return a.lower()\n",
        "\n",
        "def cap(a):\n",
        "  return a.upper()\n",
        "\n",
        "def master(func):\n",
        "  output=func(\"Hi Good Morning HOW are you\")\n",
        "  print(output)"
      ],
      "metadata": {
        "id": "E-BZnN88Y1vW"
      },
      "execution_count": null,
      "outputs": []
    },
    {
      "cell_type": "code",
      "source": [
        "master(cap)"
      ],
      "metadata": {
        "colab": {
          "base_uri": "https://localhost:8080/"
        },
        "id": "ftFLQqLVY_AX",
        "outputId": "42631e69-1ce0-4e98-8548-99efd317174f"
      },
      "execution_count": null,
      "outputs": [
        {
          "output_type": "stream",
          "name": "stdout",
          "text": [
            "HI GOOD MORNING HOW ARE YOU\n"
          ]
        }
      ]
    },
    {
      "cell_type": "code",
      "source": [
        "master(short)"
      ],
      "metadata": {
        "colab": {
          "base_uri": "https://localhost:8080/"
        },
        "id": "lB3jBwF6ZJOL",
        "outputId": "daf1a761-dd3e-4009-c9c3-59d1692cbb53"
      },
      "execution_count": null,
      "outputs": [
        {
          "output_type": "stream",
          "name": "stdout",
          "text": [
            "hi good morning how are you\n"
          ]
        }
      ]
    },
    {
      "cell_type": "code",
      "source": [
        "def create_add(x):\n",
        "  def add(y):\n",
        "    print(x+y)\n",
        "  return add"
      ],
      "metadata": {
        "id": "v-VkehMJNB-6"
      },
      "execution_count": null,
      "outputs": []
    },
    {
      "cell_type": "code",
      "source": [
        "var=create_add(10)"
      ],
      "metadata": {
        "id": "jcjWtXzVN_Hw"
      },
      "execution_count": null,
      "outputs": []
    },
    {
      "cell_type": "code",
      "source": [
        "var(20)"
      ],
      "metadata": {
        "colab": {
          "base_uri": "https://localhost:8080/"
        },
        "id": "z-_WXfEDOrFP",
        "outputId": "262ee398-1149-4365-f9e5-ae740cc02e14"
      },
      "execution_count": null,
      "outputs": [
        {
          "output_type": "stream",
          "name": "stdout",
          "text": [
            "30\n"
          ]
        }
      ]
    },
    {
      "cell_type": "markdown",
      "source": [
        "1. We define a decorator function `my_decorator` that takes another function `func` as its parameter.\n",
        "2. Inside the decorator function, we define an inner function `wrapper`, which adds the \"before\" and \"after\" behavior around the original function call."
      ],
      "metadata": {
        "id": "W1LmSdYaSZSp"
      }
    },
    {
      "cell_type": "code",
      "execution_count": null,
      "metadata": {
        "id": "xloY2KQsukAV"
      },
      "outputs": [],
      "source": [
        "def my_decorator(func):\n",
        "  def wrapper():\n",
        "\n",
        "    print(\"Something is happening before the function is called.\")\n",
        "\n",
        "    func()  # Call the original function\n",
        "\n",
        "    print(\"Something is happening after the function is called.\")\n",
        "\n",
        "  return wrapper"
      ]
    },
    {
      "cell_type": "markdown",
      "source": [
        "3. The `@my_decorator` syntax before the `say_hello` function is a shorthand way of applying the `my_decorator` to the `say_hello` function. It's equivalent to writing `say_hello = my_decorator(say_hello)`.\n"
      ],
      "metadata": {
        "id": "RZk_gLCESens"
      }
    },
    {
      "cell_type": "code",
      "source": [
        "@my_decorator\n",
        "def say_hello():\n",
        "    print(\"Hello!\")"
      ],
      "metadata": {
        "id": "bXm8xwpdRz-R"
      },
      "execution_count": null,
      "outputs": []
    },
    {
      "cell_type": "markdown",
      "source": [
        "4. When `say_hello` is called, it is actually the `wrapper` function that gets executed due to the decoration. The `wrapper` function adds the desired behavior before and after calling the original `say_hello` function."
      ],
      "metadata": {
        "id": "ITYedTaMSp61"
      }
    },
    {
      "cell_type": "code",
      "source": [
        "say_hello()"
      ],
      "metadata": {
        "colab": {
          "base_uri": "https://localhost:8080/"
        },
        "id": "w4WmZbQzR4Ub",
        "outputId": "c4062a9a-9a5f-41f5-fff9-6e5fcf59f6a0"
      },
      "execution_count": null,
      "outputs": [
        {
          "output_type": "stream",
          "name": "stdout",
          "text": [
            "Something is happening before the function is called.\n",
            "Hello!\n",
            "Something is happening after the function is called.\n"
          ]
        }
      ]
    },
    {
      "cell_type": "markdown",
      "source": [
        "* Another Example"
      ],
      "metadata": {
        "id": "Bf2b5Zl1e-wY"
      }
    },
    {
      "cell_type": "code",
      "source": [
        "import time\n",
        "time.asctime()"
      ],
      "metadata": {
        "colab": {
          "base_uri": "https://localhost:8080/",
          "height": 35
        },
        "id": "e0Q86GcV7Rf2",
        "outputId": "2447ba45-a0e7-49a8-8abb-5bdb65052205"
      },
      "execution_count": null,
      "outputs": [
        {
          "output_type": "execute_result",
          "data": {
            "text/plain": [
              "'Mon Aug 21 19:05:03 2023'"
            ],
            "application/vnd.google.colaboratory.intrinsic+json": {
              "type": "string"
            }
          },
          "metadata": {},
          "execution_count": 14
        }
      ]
    },
    {
      "cell_type": "code",
      "source": [
        "import datetime\n",
        "datetime.datetime.now()"
      ],
      "metadata": {
        "colab": {
          "base_uri": "https://localhost:8080/"
        },
        "id": "HKRl4L6M8pDQ",
        "outputId": "0a708e52-7a6f-4de8-8c72-23248a6ebabe"
      },
      "execution_count": null,
      "outputs": [
        {
          "output_type": "execute_result",
          "data": {
            "text/plain": [
              "datetime.datetime(2023, 8, 21, 19, 5, 4, 55604)"
            ]
          },
          "metadata": {},
          "execution_count": 15
        }
      ]
    },
    {
      "cell_type": "code",
      "source": [
        "import time\n",
        "def calculate_time(func):\n",
        "  def inner(num):\n",
        "    begin=time.time()\n",
        "    func(num)\n",
        "    end=time.time()\n",
        "\n",
        "    print(\"total time taken\",end-begin)\n",
        "\n",
        "  return inner"
      ],
      "metadata": {
        "id": "pGYm51Sw61RX"
      },
      "execution_count": null,
      "outputs": []
    },
    {
      "cell_type": "code",
      "source": [
        "import math\n",
        "\n",
        "@calculate_time\n",
        "def factorial(num):\n",
        "  print(math.factorial(num))"
      ],
      "metadata": {
        "id": "0k6DOOgMtTnz"
      },
      "execution_count": null,
      "outputs": []
    },
    {
      "cell_type": "code",
      "source": [
        "factorial(10)"
      ],
      "metadata": {
        "colab": {
          "base_uri": "https://localhost:8080/"
        },
        "id": "Rl4Dkz0_6QrY",
        "outputId": "c9bee437-3a77-4427-c03c-c644a124c418"
      },
      "execution_count": null,
      "outputs": [
        {
          "output_type": "stream",
          "name": "stdout",
          "text": [
            "3628800\n",
            "total time taken 3.5762786865234375e-05\n"
          ]
        }
      ]
    },
    {
      "cell_type": "markdown",
      "source": [
        "## Decorators with arguments\n",
        " * They makes them more flexible. Here's an example of a decorator that takes an argument:"
      ],
      "metadata": {
        "id": "t4hdUwq9S6aC"
      }
    },
    {
      "cell_type": "code",
      "source": [
        "def repeat(num_times):\n",
        "\n",
        "    def decorator(func):\n",
        "\n",
        "        def wrapper(*args, **kwargs):\n",
        "\n",
        "            for _ in range(num_times):\n",
        "                result = func(*args, **kwargs)\n",
        "            return result\n",
        "\n",
        "        return wrapper\n",
        "\n",
        "    return decorator"
      ],
      "metadata": {
        "id": "YrYspMIMTHy0"
      },
      "execution_count": null,
      "outputs": []
    },
    {
      "cell_type": "code",
      "source": [
        "@repeat(num_times=3)\n",
        "def greet(name):\n",
        "    print(f\"Hello, {name}!\")"
      ],
      "metadata": {
        "id": "1P2sAALrTLeO"
      },
      "execution_count": null,
      "outputs": []
    },
    {
      "cell_type": "code",
      "source": [
        "greet(\"Alice\")"
      ],
      "metadata": {
        "colab": {
          "base_uri": "https://localhost:8080/"
        },
        "id": "0AhzTiKxTN-O",
        "outputId": "991f85f8-44e2-4401-f92a-10c593003a4f"
      },
      "execution_count": null,
      "outputs": [
        {
          "output_type": "stream",
          "name": "stdout",
          "text": [
            "Hello, Alice!\n",
            "Hello, Alice!\n",
            "Hello, Alice!\n"
          ]
        }
      ]
    },
    {
      "cell_type": "markdown",
      "source": [
        "\n",
        "In this example, the `repeat` decorator takes an argument `num_times` that specifies how many times the decorated function should be repeated. The `greet` function is decorated with `@repeat(num_times=3)`, so it's repeated three times when called.\n",
        "\n",
        "Remember that decorators are a powerful and versatile feature in Python, and they are extensively used in frameworks and libraries to implement various functionalities in an organized and reusable manner."
      ],
      "metadata": {
        "id": "SoBktz_QRsZ5"
      }
    },
    {
      "cell_type": "markdown",
      "source": [
        "# Abstract class\n"
      ],
      "metadata": {
        "id": "pC_PrDlIWJQa"
      }
    },
    {
      "cell_type": "code",
      "source": [
        "# want to make this class as a\n",
        "# we need to inherite it with the ABC and atleast one method should be a abstract method\n",
        "#abstraction and\n",
        "\n",
        "#  constraint\n",
        "\n",
        "# now it became a asbtract class\n",
        "from abc import ABC,abstractmethod\n",
        "class BankApp(ABC):\n",
        "\n",
        "  @abstractmethod\n",
        "  def __init__(self):\n",
        "    print(\"bank object created\")\n",
        "\n",
        "  def database(self):\n",
        "    pass\n",
        "\n",
        "  @abstractmethod\n",
        "  def security(self):\n",
        "    pass\n",
        "\n",
        "  @abstractmethod\n",
        "  def display(self):\n",
        "    pass"
      ],
      "metadata": {
        "id": "bWIQd4WHQqDZ"
      },
      "execution_count": null,
      "outputs": []
    },
    {
      "cell_type": "code",
      "source": [
        "class MobileApp(BankApp):\n",
        "\n",
        "  def __init__(self):\n",
        "    print(\"mobile object create\")\n",
        "\n",
        "  def mobile_login(self):\n",
        "    print(\"logged in the mobile\")\n",
        "\n",
        "  def security(self):\n",
        "    print(\"mobile secutiry\")\n",
        "\n",
        "  def display(self):\n",
        "    print(\"doing display\")\n"
      ],
      "metadata": {
        "id": "64M-HU97Q8E_"
      },
      "execution_count": null,
      "outputs": []
    },
    {
      "cell_type": "code",
      "source": [
        "obj=MobileApp()"
      ],
      "metadata": {
        "colab": {
          "base_uri": "https://localhost:8080/"
        },
        "id": "JWo_nlmQSFtS",
        "outputId": "e0efa4e3-0f96-4e5d-ca32-d4fbe4d297a7"
      },
      "execution_count": null,
      "outputs": [
        {
          "output_type": "stream",
          "name": "stdout",
          "text": [
            "mobile object create\n"
          ]
        }
      ]
    },
    {
      "cell_type": "code",
      "source": [
        "obj.security()"
      ],
      "metadata": {
        "colab": {
          "base_uri": "https://localhost:8080/"
        },
        "id": "Vao_lEw6SNLF",
        "outputId": "b718e473-956a-4415-e5fc-16ce8b75a1b5"
      },
      "execution_count": null,
      "outputs": [
        {
          "output_type": "stream",
          "name": "stdout",
          "text": [
            "mobile secutiry\n"
          ]
        }
      ]
    },
    {
      "cell_type": "code",
      "source": [
        "obj.display()"
      ],
      "metadata": {
        "colab": {
          "base_uri": "https://localhost:8080/"
        },
        "id": "hDPImpNhSvVg",
        "outputId": "26993fe1-90d3-4db2-f952-76adba2d5008"
      },
      "execution_count": null,
      "outputs": [
        {
          "output_type": "stream",
          "name": "stdout",
          "text": [
            "doing display\n"
          ]
        }
      ]
    },
    {
      "cell_type": "code",
      "source": [
        "bank=BankApp()"
      ],
      "metadata": {
        "colab": {
          "base_uri": "https://localhost:8080/",
          "height": 166
        },
        "id": "3Q0dLnssTZ9e",
        "outputId": "c2fe7df3-4d3f-4c44-87cb-90d23d6c7db0"
      },
      "execution_count": null,
      "outputs": [
        {
          "output_type": "error",
          "ename": "TypeError",
          "evalue": "ignored",
          "traceback": [
            "\u001b[0;31m---------------------------------------------------------------------------\u001b[0m",
            "\u001b[0;31mTypeError\u001b[0m                                 Traceback (most recent call last)",
            "\u001b[0;32m<ipython-input-120-6ddbd8442105>\u001b[0m in \u001b[0;36m<cell line: 1>\u001b[0;34m()\u001b[0m\n\u001b[0;32m----> 1\u001b[0;31m \u001b[0mbank\u001b[0m\u001b[0;34m=\u001b[0m\u001b[0mBankApp\u001b[0m\u001b[0;34m(\u001b[0m\u001b[0;34m)\u001b[0m\u001b[0;34m\u001b[0m\u001b[0;34m\u001b[0m\u001b[0m\n\u001b[0m",
            "\u001b[0;31mTypeError\u001b[0m: Can't instantiate abstract class BankApp with abstract methods display, security"
          ]
        }
      ]
    },
    {
      "cell_type": "code",
      "source": [
        "# code for testing decorator chaining\n",
        "def decor1(func):\n",
        "    def inner():\n",
        "        x = func()\n",
        "        return x * x\n",
        "    return inner\n",
        "\n",
        "def decor(func):\n",
        "    def inner():\n",
        "        x = func()\n",
        "        return 2 * x\n",
        "    return inner\n",
        "\n",
        "@decor1\n",
        "@decor\n",
        "def num():\n",
        "    return 10\n",
        "\n",
        "@decor\n",
        "@decor1\n",
        "def num2():\n",
        "    return 10\n",
        "\n",
        "print(num())\n",
        "print(num2())"
      ],
      "metadata": {
        "id": "2VKZbn2BVYuJ"
      },
      "execution_count": null,
      "outputs": []
    },
    {
      "cell_type": "markdown",
      "source": [
        "1. **Python's Internal Masking for Private Variables:**\n",
        "   \n",
        "   Python uses name mangling to achieve a form of private variable behavior. This means that variables with names like `__instancevariable` or `__attribute` are internally modified to `_NameOfClass__NameOfAttribute`. This is done to make it harder to accidentally or intentionally access these variables from outside the class.\n",
        "\n"
      ],
      "metadata": {
        "id": "hreQMpIfbl5H"
      }
    },
    {
      "cell_type": "code",
      "source": [
        "class MyClass:\n",
        "  def __init__(self):\n",
        "    self.__private_var = 10\n",
        "\n",
        "\n",
        "obj = MyClass()\n",
        "print(obj._MyClass__private_var)  # Accessing private variable using name mangling"
      ],
      "metadata": {
        "colab": {
          "base_uri": "https://localhost:8080/"
        },
        "id": "SFOrZNpJmMdw",
        "outputId": "fccb45e9-1816-420b-c998-50cbe0ac584d"
      },
      "execution_count": null,
      "outputs": [
        {
          "output_type": "stream",
          "name": "stdout",
          "text": [
            "10\n"
          ]
        }
      ]
    },
    {
      "cell_type": "markdown",
      "source": [
        "2. **Name Change Only:**\n",
        "\n",
        "   The process of using name mangling in Python only changes the name of the private variable. However, it's important to note that this mechanism is not designed for providing complete security. It's more about indicating that certain attributes should not be accessed directly.\n",
        "\n",
        "3. **Limited Security Compared to Java:**\n",
        "\n",
        "   In Python, the private variable naming convention and name mangling are meant to encourage developers not to access certain variables directly. However, these conventions can be bypassed, which is different from Java's strict access controls where private variables are truly encapsulated.\n",
        "\n",
        "4. **Adding Class Attributes After Object Creation:**\n",
        "\n",
        "   The `setattr()` function allows you to dynamically add class attributes to an object after it has been created.\n",
        "\n",
        "   ```python\n",
        "   class MyClass:\n",
        "       pass\n",
        "\n",
        "   obj = MyClass()\n",
        "   setattr(obj, 'new_attribute', 42)\n",
        "   print(obj.new_attribute)  # Output: 42\n",
        "   ```\n",
        "\n",
        "5. **Getting Class Attributes Using `getattr()`:**\n",
        "\n",
        "   The `getattr()` function dynamically retrieves the value of a class attribute based on its name.\n",
        "\n",
        "   ```python\n",
        "   class MyClass:\n",
        "       my_attribute = 10\n",
        "\n",
        "   obj = MyClass()\n",
        "   attribute_name = 'my_attribute'\n",
        "   value = getattr(obj, attribute_name)\n",
        "   print(value)  # Output: 10\n",
        "   ```\n",
        "\n",
        "6. **Method for Destroying Objects:**\n",
        "\n",
        "   To define a custom method for destroying objects, you can create a method named `__del__()` within your class. This method is automatically called when the object is about to be destroyed.\n",
        "\n",
        "   ```python\n",
        "   class MyClass:\n",
        "       def __del__(self):\n",
        "           print(\"Object destroyed\")\n",
        "\n",
        "   obj = MyClass()\n",
        "   del obj  # This will trigger the __del__() method and print \"Object destroyed\"\n",
        "   ```\n",
        "\n",
        "Remember that these examples provide a basic understanding of the concepts. In real-world applications, you should carefully consider design and security implications before implementing these techniques."
      ],
      "metadata": {
        "id": "yZNNoS2pmg_N"
      }
    },
    {
      "cell_type": "markdown",
      "source": [
        "# Encapsulation"
      ],
      "metadata": {
        "id": "pv4-BYnyidzl"
      }
    },
    {
      "cell_type": "markdown",
      "source": [
        " Encapsulation is a fundamental concept in object-oriented programming that involves bundling data (variables) and the methods (functions) that operate on that data into a single unit, known as a class. The goal of encapsulation is to hide the internal implementation details of the class and provide controlled access to the data through well-defined interfaces (methods).\n",
        "\n",
        "In the code snippet you provided, you're importing the `LazyConfigValue` class from the `traitlets.config.loader` module. However, this import statement itself is not an example of encapsulation. Encapsulation would involve creating an instance of the class and using methods to interact with its data.\n",
        "\n",
        "Example of encapsulation:\n",
        "\n",
        "```python\n",
        "class Person:\n",
        "    def __init__(self, name, age):\n",
        "        self._name = name  # _name is a protected variable\n",
        "        self._age = age    # _age is a protected variable\n",
        "        \n",
        "    def get_name(self):\n",
        "        return self._name\n",
        "    \n",
        "    def set_name(self, new_name):\n",
        "        self._name = new_name\n",
        "        \n",
        "    def get_age(self):\n",
        "        return self._age\n",
        "    \n",
        "    def set_age(self, new_age):\n",
        "        if new_age >= 0:\n",
        "            self._age = new_age\n",
        "\n",
        "# Creating an instance of the Person class\n",
        "person = Person(\"Alice\", 30)\n",
        "\n",
        "# Using encapsulation to access and modify data\n",
        "print(person.get_name())  # Output: Alice\n",
        "person.set_name(\"Bob\")\n",
        "print(person.get_name())  # Output: Bob\n",
        "\n",
        "print(person.get_age())   # Output: 30\n",
        "person.set_age(25)\n",
        "print(person.get_age())   # Output: 25\n",
        "```\n",
        "\n",
        "In this example, the data (`_name` and `_age`) is encapsulated within the `Person` class, and access to it is controlled through methods like `get_name()` and `set_name()`.\n",
        "\n",
        "The code you provided doesn't demonstrate this level of encapsulation, as it only imports a class without showing how the class's data and methods are used together within instances of the class."
      ],
      "metadata": {
        "id": "Dxr5B_Gfejtx"
      }
    }
  ]
}
