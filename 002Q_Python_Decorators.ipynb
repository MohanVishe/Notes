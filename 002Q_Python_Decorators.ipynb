{
  "nbformat": 4,
  "nbformat_minor": 0,
  "metadata": {
    "colab": {
      "provenance": [],
      "authorship_tag": "ABX9TyM4oxi9+9CazsG6t0r/320g",
      "include_colab_link": true
    },
    "kernelspec": {
      "name": "python3",
      "display_name": "Python 3"
    },
    "language_info": {
      "name": "python"
    }
  },
  "cells": [
    {
      "cell_type": "markdown",
      "metadata": {
        "id": "view-in-github",
        "colab_type": "text"
      },
      "source": [
        "<a href=\"https://colab.research.google.com/github/MohanVishe/Notes/blob/main/002Q_Python_Decorators.ipynb\" target=\"_parent\"><img src=\"https://colab.research.google.com/assets/colab-badge.svg\" alt=\"Open In Colab\"/></a>"
      ]
    },
    {
      "cell_type": "markdown",
      "source": [
        "#  Decorators"
      ],
      "metadata": {
        "id": "rSAhXGjrTj0D"
      }
    },
    {
      "cell_type": "markdown",
      "source": [
        "**Decorators in Python**\n",
        "\n",
        "- Decorators are a powerful and flexible feature in Python that allows you to modify or enhance the behavior of functions or methods without changing their code.\n",
        "- Decorators are functions themselves, and they are applied to other functions or methods using the `@` symbol followed by the decorator function name."
      ],
      "metadata": {
        "id": "wL6gahkmTUyR"
      }
    },
    {
      "cell_type": "markdown",
      "source": [
        "#### **Basic Decorator Example:**\n",
        "\n",
        "```python\n",
        "def my_decorator(func):\n",
        "    def wrapper():\n",
        "        print(\"Something is happening before the function is called.\")\n",
        "        func()\n",
        "        print(\"Something is happening after the function is called.\")\n",
        "    return wrapper\n",
        "\n",
        "@my_decorator\n",
        "def say_hello():\n",
        "    print(\"Hello!\")\n",
        "\n",
        "say_hello()\n",
        "```\n",
        "\n",
        "In this example:\n",
        "\n",
        "- `my_decorator` is a decorator function that takes another function (`func`) as its argument.\n",
        "- Inside `my_decorator`, there's a nested function called `wrapper`. This function surrounds the original `func`.\n",
        "- The `wrapper` function adds behavior before and after calling the `func`.\n",
        "- `@my_decorator` is used to decorate the `say_hello` function. This means that calling `say_hello()` actually calls `wrapper()`, which in turn calls `say_hello()`."
      ],
      "metadata": {
        "id": "hbV7lBP3TbaL"
      }
    },
    {
      "cell_type": "markdown",
      "source": [
        "### **Detail Explaination**"
      ],
      "metadata": {
        "id": "Nnm9w-bvW-t-"
      }
    },
    {
      "cell_type": "markdown",
      "source": [
        "* **Taking Function as argument**"
      ],
      "metadata": {
        "id": "0kxUcuaBXXJB"
      }
    },
    {
      "cell_type": "code",
      "source": [
        "def  short(a):\n",
        "  return a.lower()\n",
        "\n",
        "def cap(a):\n",
        "  return a.upper()\n",
        "\n",
        "def master(func):\n",
        "  output=func(\"Hi Good Morning HOW Are You\")\n",
        "  print(output)"
      ],
      "metadata": {
        "id": "E-BZnN88Y1vW"
      },
      "execution_count": null,
      "outputs": []
    },
    {
      "cell_type": "code",
      "source": [
        "master(cap)"
      ],
      "metadata": {
        "colab": {
          "base_uri": "https://localhost:8080/"
        },
        "id": "ftFLQqLVY_AX",
        "outputId": "42631e69-1ce0-4e98-8548-99efd317174f"
      },
      "execution_count": null,
      "outputs": [
        {
          "output_type": "stream",
          "name": "stdout",
          "text": [
            "HI GOOD MORNING HOW ARE YOU\n"
          ]
        }
      ]
    },
    {
      "cell_type": "code",
      "source": [
        "master(short)"
      ],
      "metadata": {
        "colab": {
          "base_uri": "https://localhost:8080/"
        },
        "id": "lB3jBwF6ZJOL",
        "outputId": "daf1a761-dd3e-4009-c9c3-59d1692cbb53"
      },
      "execution_count": null,
      "outputs": [
        {
          "output_type": "stream",
          "name": "stdout",
          "text": [
            "hi good morning how are you\n"
          ]
        }
      ]
    },
    {
      "cell_type": "code",
      "source": [
        "def create_add(x):\n",
        "  def add(y):\n",
        "    print(x+y)\n",
        "  return add"
      ],
      "metadata": {
        "id": "v-VkehMJNB-6"
      },
      "execution_count": null,
      "outputs": []
    },
    {
      "cell_type": "code",
      "source": [
        "var=create_add(10)"
      ],
      "metadata": {
        "id": "jcjWtXzVN_Hw"
      },
      "execution_count": null,
      "outputs": []
    },
    {
      "cell_type": "code",
      "source": [
        "var(20)"
      ],
      "metadata": {
        "colab": {
          "base_uri": "https://localhost:8080/"
        },
        "id": "z-_WXfEDOrFP",
        "outputId": "262ee398-1149-4365-f9e5-ae740cc02e14"
      },
      "execution_count": null,
      "outputs": [
        {
          "output_type": "stream",
          "name": "stdout",
          "text": [
            "30\n"
          ]
        }
      ]
    },
    {
      "cell_type": "code",
      "source": [
        "# After giving value of 10 to function and assign it to \"var\"\n",
        "# This \"var\" become equivalent to this function\n",
        "def var(y):\n",
        "  print(10+y)\n",
        "\n",
        "# or\n",
        "def add(y):\n",
        "  print(10+y)"
      ],
      "metadata": {
        "id": "yVybHU3qVcSt"
      },
      "execution_count": null,
      "outputs": []
    },
    {
      "cell_type": "markdown",
      "source": [
        "*  **We define a decorator function `my_decorator` that takes another function `func` as its parameter.**\n",
        "*  **Inside the decorator function, we define an inner function `wrapper`, which adds the \"before\" and \"after\" behavior around the original function call.**"
      ],
      "metadata": {
        "id": "W1LmSdYaSZSp"
      }
    },
    {
      "cell_type": "code",
      "execution_count": null,
      "metadata": {
        "id": "xloY2KQsukAV"
      },
      "outputs": [],
      "source": [
        "def my_decorator(func):\n",
        "  def wrapper():\n",
        "\n",
        "    print(\"Something is happening before the function is called.\")\n",
        "\n",
        "    func()  # Call the original function\n",
        "\n",
        "    print(\"Something is happening after the function is called.\")\n",
        "\n",
        "  return wrapper"
      ]
    },
    {
      "cell_type": "markdown",
      "source": [
        "* The given `func` argument in `my_decorator()` function will remain inside `wrapper()` also because it is inside `my_decorator()`."
      ],
      "metadata": {
        "id": "cV-pOXwvUoFP"
      }
    },
    {
      "cell_type": "markdown",
      "source": [
        "* **The `@my_decorator` syntax before the `say_hello` function is a shorthand way of applying the `my_decorator` to the `say_hello` function. It's equivalent to writing `say_hello = my_decorator(say_hello)`.**\n"
      ],
      "metadata": {
        "id": "RZk_gLCESens"
      }
    },
    {
      "cell_type": "code",
      "source": [
        "@my_decorator\n",
        "def say_hello():\n",
        "    print(\"Hello!\")"
      ],
      "metadata": {
        "id": "bXm8xwpdRz-R"
      },
      "execution_count": null,
      "outputs": []
    },
    {
      "cell_type": "markdown",
      "source": [
        "* **When `say_hello` is called, it is actually the `wrapper` function that gets executed due to the decoration. The `wrapper` function adds the desired behavior before and after calling the original `say_hello` function.**"
      ],
      "metadata": {
        "id": "ITYedTaMSp61"
      }
    },
    {
      "cell_type": "code",
      "source": [
        "say_hello()"
      ],
      "metadata": {
        "colab": {
          "base_uri": "https://localhost:8080/"
        },
        "id": "w4WmZbQzR4Ub",
        "outputId": "c4062a9a-9a5f-41f5-fff9-6e5fcf59f6a0"
      },
      "execution_count": null,
      "outputs": [
        {
          "output_type": "stream",
          "name": "stdout",
          "text": [
            "Something is happening before the function is called.\n",
            "Hello!\n",
            "Something is happening after the function is called.\n"
          ]
        }
      ]
    },
    {
      "cell_type": "markdown",
      "source": [
        "#### **Another Example**"
      ],
      "metadata": {
        "id": "Bf2b5Zl1e-wY"
      }
    },
    {
      "cell_type": "code",
      "source": [
        "import time\n",
        "time.asctime()"
      ],
      "metadata": {
        "colab": {
          "base_uri": "https://localhost:8080/",
          "height": 35
        },
        "id": "e0Q86GcV7Rf2",
        "outputId": "2447ba45-a0e7-49a8-8abb-5bdb65052205"
      },
      "execution_count": null,
      "outputs": [
        {
          "output_type": "execute_result",
          "data": {
            "text/plain": [
              "'Mon Aug 21 19:05:03 2023'"
            ],
            "application/vnd.google.colaboratory.intrinsic+json": {
              "type": "string"
            }
          },
          "metadata": {},
          "execution_count": 14
        }
      ]
    },
    {
      "cell_type": "code",
      "source": [
        "import datetime\n",
        "datetime.datetime.now()"
      ],
      "metadata": {
        "colab": {
          "base_uri": "https://localhost:8080/"
        },
        "id": "HKRl4L6M8pDQ",
        "outputId": "0a708e52-7a6f-4de8-8c72-23248a6ebabe"
      },
      "execution_count": null,
      "outputs": [
        {
          "output_type": "execute_result",
          "data": {
            "text/plain": [
              "datetime.datetime(2023, 8, 21, 19, 5, 4, 55604)"
            ]
          },
          "metadata": {},
          "execution_count": 15
        }
      ]
    },
    {
      "cell_type": "code",
      "source": [
        "import time\n",
        "def calculate_time(func):\n",
        "  def inner(num):\n",
        "    begin=time.time()\n",
        "    func(num)\n",
        "    end=time.time()\n",
        "\n",
        "    print(\"total time taken\",end-begin)\n",
        "\n",
        "  return inner"
      ],
      "metadata": {
        "id": "pGYm51Sw61RX"
      },
      "execution_count": null,
      "outputs": []
    },
    {
      "cell_type": "code",
      "source": [
        "import math\n",
        "\n",
        "@calculate_time\n",
        "def factorial(num):\n",
        "  print(math.factorial(num))"
      ],
      "metadata": {
        "id": "0k6DOOgMtTnz"
      },
      "execution_count": null,
      "outputs": []
    },
    {
      "cell_type": "code",
      "source": [
        "factorial(10)"
      ],
      "metadata": {
        "colab": {
          "base_uri": "https://localhost:8080/"
        },
        "id": "Rl4Dkz0_6QrY",
        "outputId": "c9bee437-3a77-4427-c03c-c644a124c418"
      },
      "execution_count": null,
      "outputs": [
        {
          "output_type": "stream",
          "name": "stdout",
          "text": [
            "3628800\n",
            "total time taken 3.5762786865234375e-05\n"
          ]
        }
      ]
    },
    {
      "cell_type": "markdown",
      "source": [
        "### Decorators with Arguments:\n",
        "\n",
        "create decorators that accept arguments by adding an extra layer of nested functions:\n",
        "\n"
      ],
      "metadata": {
        "id": "w6ecnJa9YgFr"
      }
    },
    {
      "cell_type": "markdown",
      "source": [
        "**Example**"
      ],
      "metadata": {
        "id": "Y0lNlVuJX9UK"
      }
    },
    {
      "cell_type": "code",
      "source": [
        "def dec_arg(name):\n",
        "  def process(func):\n",
        "    def inside(a,b):\n",
        "\n",
        "      print(name)\n",
        "\n",
        "      print(\"start\")\n",
        "      func(a,b)\n",
        "      print(\"end\")\n",
        "    return inside\n",
        "  return process"
      ],
      "metadata": {
        "id": "YefxmXZUV3z_"
      },
      "execution_count": null,
      "outputs": []
    },
    {
      "cell_type": "code",
      "source": [
        "@dec_arg(\"This is addition\")\n",
        "def add(a,b):\n",
        "  print(a+b)"
      ],
      "metadata": {
        "id": "Z9jOlhU4WPPd"
      },
      "execution_count": null,
      "outputs": []
    },
    {
      "cell_type": "code",
      "source": [
        "add(10,2)"
      ],
      "metadata": {
        "colab": {
          "base_uri": "https://localhost:8080/"
        },
        "id": "0AAwlbbtWcBs",
        "outputId": "1593faf0-bb44-459c-bf47-235639b9fe41"
      },
      "execution_count": null,
      "outputs": [
        {
          "output_type": "stream",
          "name": "stdout",
          "text": [
            "This is addition\n",
            "start\n",
            "12\n",
            "end\n"
          ]
        }
      ]
    },
    {
      "cell_type": "markdown",
      "source": [
        "**Example**"
      ],
      "metadata": {
        "id": "58BbM1S0X51M"
      }
    },
    {
      "cell_type": "code",
      "source": [
        "def repeat(num_times):\n",
        "\n",
        "    def decorator(func):\n",
        "\n",
        "        def wrapper(*args, **kwargs):\n",
        "\n",
        "            for _ in range(num_times):\n",
        "                result = func(*args, **kwargs)\n",
        "            return result\n",
        "\n",
        "        return wrapper\n",
        "\n",
        "    return decorator"
      ],
      "metadata": {
        "id": "YrYspMIMTHy0"
      },
      "execution_count": null,
      "outputs": []
    },
    {
      "cell_type": "code",
      "source": [
        "@repeat(num_times=3)\n",
        "def greet(name):\n",
        "    print(f\"Hello, {name}!\")"
      ],
      "metadata": {
        "id": "1P2sAALrTLeO"
      },
      "execution_count": null,
      "outputs": []
    },
    {
      "cell_type": "code",
      "source": [
        "greet(\"Alice\")"
      ],
      "metadata": {
        "colab": {
          "base_uri": "https://localhost:8080/"
        },
        "id": "0AhzTiKxTN-O",
        "outputId": "3677c360-86aa-45c4-bb53-6aed5b7042bf"
      },
      "execution_count": null,
      "outputs": [
        {
          "output_type": "stream",
          "name": "stdout",
          "text": [
            "Hello, Alice!\n",
            "Hello, Alice!\n",
            "Hello, Alice!\n"
          ]
        }
      ]
    },
    {
      "cell_type": "markdown",
      "source": [
        "\n",
        "In this example, the `repeat` decorator takes an argument `num_times` that specifies how many times the decorated function should be repeated. The `greet` function is decorated with `@repeat(num_times=3)`, so it's repeated three times when called.\n",
        "\n",
        "Remember that decorators are a powerful and versatile feature in Python, and they are extensively used in frameworks and libraries to implement various functionalities in an organized and reusable manner."
      ],
      "metadata": {
        "id": "SoBktz_QRsZ5"
      }
    },
    {
      "cell_type": "markdown",
      "source": [
        "\n",
        "\n",
        "\n",
        "\n",
        "### Use Cases for Decorators:\n",
        "\n",
        "1. **Logging:**\n",
        "   ```python\n",
        "   def log_function_call(func):\n",
        "       def wrapper(*args, **kwargs):\n",
        "           print(f\"Calling {func.__name__} with arguments {args}, {kwargs}\")\n",
        "           result = func(*args, **kwargs)\n",
        "           print(f\"{func.__name__} returned {result}\")\n",
        "           return result\n",
        "       return wrapper\n",
        "   ```\n",
        "\n",
        "2. **Authorization/Access Control:**\n",
        "   ```python\n",
        "   def requires_admin(func):\n",
        "       def wrapper(*args, **kwargs):\n",
        "           if is_admin():\n",
        "               return func(*args, **kwargs)\n",
        "           else:\n",
        "               raise PermissionError(\"Admin privileges required.\")\n",
        "       return wrapper\n",
        "   ```\n",
        "\n",
        "3. **Memoization (Caching):**\n",
        "   ```python\n",
        "   def memoize(func):\n",
        "       cache = {}\n",
        "       def wrapper(*args):\n",
        "           if args not in cache:\n",
        "               cache[args] = func(*args)\n",
        "           return cache[args]\n",
        "       return wrapper\n",
        "   ```\n",
        "\n",
        "Decorators are a powerful tool in Python, allowing you to add reusable and customizable functionality to your functions and methods. They improve code organization and maintainability by separating concerns and promoting the \"open-closed\" principle, which states that code should be open for extension but closed for modification."
      ],
      "metadata": {
        "id": "iSCVL8tuTAtZ"
      }
    }
  ]
}