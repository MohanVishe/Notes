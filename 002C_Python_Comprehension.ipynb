{
  "nbformat": 4,
  "nbformat_minor": 0,
  "metadata": {
    "kernelspec": {
      "display_name": "Python 3",
      "language": "python",
      "name": "python3"
    },
    "language_info": {
      "codemirror_mode": {
        "name": "ipython",
        "version": 3
      },
      "file_extension": ".py",
      "mimetype": "text/x-python",
      "name": "python",
      "nbconvert_exporter": "python",
      "pygments_lexer": "ipython3",
      "version": "3.7.4"
    },
    "colab": {
      "provenance": [],
      "include_colab_link": true
    }
  },
  "cells": [
    {
      "cell_type": "markdown",
      "metadata": {
        "id": "view-in-github",
        "colab_type": "text"
      },
      "source": [
        "<a href=\"https://colab.research.google.com/github/MohanVishe/Notes/blob/main/002C_Python_Comprehension.ipynb\" target=\"_parent\"><img src=\"https://colab.research.google.com/assets/colab-badge.svg\" alt=\"Open In Colab\"/></a>"
      ]
    },
    {
      "cell_type": "markdown",
      "metadata": {
        "id": "uCEngv6FHnnb"
      },
      "source": [
        "# Comprehensions\n",
        "\n",
        "- Comprehensions in Python are concise and expressive ways to create lists, dictionaries, or sets. They allow you to generate these data structures in a single line of code, often replacing the need for traditional for loops."
      ]
    },
    {
      "cell_type": "markdown",
      "metadata": {
        "id": "6KySHsyNHnne"
      },
      "source": [
        "#1. List Comprehensions\n",
        "- If we understand list comprehension the other comprehension are similar"
      ]
    },
    {
      "cell_type": "markdown",
      "metadata": {
        "id": "LIQYbLZD4tmG"
      },
      "source": [
        "##1. Simple Comprehension\n",
        "\n",
        "- **Example** : getting the squares of the numbers in a list"
      ]
    },
    {
      "cell_type": "code",
      "metadata": {
        "id": "ZN-GxWfKHnng"
      },
      "source": [
        "list_of_numbers = [2,5,6,9,11,14,15]"
      ],
      "execution_count": null,
      "outputs": []
    },
    {
      "cell_type": "markdown",
      "metadata": {
        "id": "xMVEJhlJqinT"
      },
      "source": [
        "**traditional way**"
      ]
    },
    {
      "cell_type": "code",
      "metadata": {
        "id": "1O-AcdmHBt3i",
        "colab": {
          "base_uri": "https://localhost:8080/"
        },
        "outputId": "b982483e-c5d8-428e-b6bc-724764938fc6"
      },
      "source": [
        "squared_numbers = []\n",
        "\n",
        "for number in list_of_numbers:\n",
        "  squared_numbers.append(number**2)\n",
        "\n",
        "print(squared_numbers)"
      ],
      "execution_count": null,
      "outputs": [
        {
          "output_type": "stream",
          "name": "stdout",
          "text": [
            "[4, 25, 36, 81, 121, 196, 225]\n"
          ]
        }
      ]
    },
    {
      "cell_type": "markdown",
      "metadata": {
        "id": "cA4FRj6VrbBa"
      },
      "source": [
        "**list comprehension**"
      ]
    },
    {
      "cell_type": "code",
      "metadata": {
        "id": "aEWnTWlSraaB",
        "colab": {
          "base_uri": "https://localhost:8080/"
        },
        "outputId": "bdfa3615-5070-42f3-d3ea-e0921dde65cf"
      },
      "source": [
        "[number**2 for number in list_of_numbers]"
      ],
      "execution_count": null,
      "outputs": [
        {
          "output_type": "execute_result",
          "data": {
            "text/plain": [
              "[4, 25, 36, 81, 121, 196, 225]"
            ]
          },
          "metadata": {},
          "execution_count": 13
        }
      ]
    },
    {
      "cell_type": "markdown",
      "metadata": {
        "id": "mBuA8NPHwJZG"
      },
      "source": [
        "## 2.Using Condition.(if)\n",
        "- **Example** : Suppose we wanted to get the squares of only those numbers which are even\n",
        "\n"
      ]
    },
    {
      "cell_type": "markdown",
      "source": [
        "**traditional way**"
      ],
      "metadata": {
        "id": "-x4w6jEhHVwY"
      }
    },
    {
      "cell_type": "code",
      "source": [
        "even_square=[]\n",
        "for i in list_of_numbers:\n",
        "  if i%2==0:\n",
        "    even_square.append(i**2)\n",
        "print(even_square)"
      ],
      "metadata": {
        "colab": {
          "base_uri": "https://localhost:8080/"
        },
        "id": "X7HF2PldHixl",
        "outputId": "8befa7b8-2a2b-4ef6-a760-21a461a50e4f"
      },
      "execution_count": null,
      "outputs": [
        {
          "output_type": "stream",
          "name": "stdout",
          "text": [
            "[4, 36, 196]\n"
          ]
        }
      ]
    },
    {
      "cell_type": "markdown",
      "source": [
        "**list comprehension**"
      ],
      "metadata": {
        "id": "QhFYdJs4HcHo"
      }
    },
    {
      "cell_type": "code",
      "metadata": {
        "id": "VRn61EvCwISN",
        "colab": {
          "base_uri": "https://localhost:8080/"
        },
        "outputId": "a3313ffe-bcb9-4fdf-f5f5-07db324e8b07"
      },
      "source": [
        "[number**2 for number in list_of_numbers if number%2==0]"
      ],
      "execution_count": null,
      "outputs": [
        {
          "output_type": "execute_result",
          "data": {
            "text/plain": [
              "[4, 36, 196]"
            ]
          },
          "metadata": {},
          "execution_count": 14
        }
      ]
    },
    {
      "cell_type": "markdown",
      "source": [
        "##3.Using Condition (if-else):\n",
        "- The position will change for only (if) it was at last and for (if-else) it will be at start"
      ],
      "metadata": {
        "id": "aVcF5k21Ep-t"
      }
    },
    {
      "cell_type": "markdown",
      "source": [
        "- **Example**: Square of odd and cube of even"
      ],
      "metadata": {
        "id": "iXP3YzG-E1ff"
      }
    },
    {
      "cell_type": "code",
      "source": [
        "[i**3 if i%2!=0 else i**2 for i in list_of_numbers]"
      ],
      "metadata": {
        "colab": {
          "base_uri": "https://localhost:8080/"
        },
        "id": "czUZywFTE9pd",
        "outputId": "a5eba20c-b2c8-43d2-8f75-d9a9c354cc1b"
      },
      "execution_count": null,
      "outputs": [
        {
          "output_type": "execute_result",
          "data": {
            "text/plain": [
              "[4, 125, 36, 729, 1331, 196, 3375]"
            ]
          },
          "metadata": {},
          "execution_count": 17
        }
      ]
    },
    {
      "cell_type": "markdown",
      "metadata": {
        "id": "dImgCdB26lP_"
      },
      "source": [
        "\n",
        "\n",
        "##4. for nested loops"
      ]
    },
    {
      "cell_type": "markdown",
      "source": [
        "- Nested loops in list comprehensions remember that the for clauses remain in the same order as in our original for loops."
      ],
      "metadata": {
        "id": "Oysu07uSJXWD"
      }
    },
    {
      "cell_type": "markdown",
      "source": [
        "**traditional way**"
      ],
      "metadata": {
        "id": "Tc9U5gJnJqWS"
      }
    },
    {
      "cell_type": "code",
      "metadata": {
        "id": "Ef-zn-kSAM-k",
        "colab": {
          "base_uri": "https://localhost:8080/"
        },
        "outputId": "377ff400-090e-4217-cc98-f7d21a1b54d4"
      },
      "source": [
        "list_of_numbers = []\n",
        "\n",
        "for num1 in range(4):\n",
        "  for num2 in range(2):\n",
        "    list_of_numbers.append(num1)\n",
        "\n",
        "print(list_of_numbers)"
      ],
      "execution_count": null,
      "outputs": [
        {
          "output_type": "stream",
          "name": "stdout",
          "text": [
            "[0, 0, 1, 1, 2, 2, 3, 3]\n"
          ]
        }
      ]
    },
    {
      "cell_type": "markdown",
      "source": [
        "**list comprehension**"
      ],
      "metadata": {
        "id": "6ps6M6QeJpv-"
      }
    },
    {
      "cell_type": "code",
      "metadata": {
        "id": "jrZ6zJQOAV7p",
        "colab": {
          "base_uri": "https://localhost:8080/"
        },
        "outputId": "ec9df1fa-dd13-403c-cc25-c84523ebda8e"
      },
      "source": [
        "[num1 for num1 in range(4) for num2 in range(2)]"
      ],
      "execution_count": null,
      "outputs": [
        {
          "output_type": "execute_result",
          "data": {
            "text/plain": [
              "[0, 0, 1, 1, 2, 2, 3, 3]"
            ]
          },
          "metadata": {},
          "execution_count": 20
        }
      ]
    },
    {
      "cell_type": "markdown",
      "metadata": {
        "id": "Kfl0SvSSAsjV"
      },
      "source": [
        "**Note : aware of this mistake**"
      ]
    },
    {
      "cell_type": "code",
      "metadata": {
        "id": "nSWmyLP8Avpv",
        "colab": {
          "base_uri": "https://localhost:8080/"
        },
        "outputId": "e210109f-1a7d-409a-a8d6-3370f9a966af"
      },
      "source": [
        "[num2**2 for num2 in range(2) for num1 in range(4)]"
      ],
      "execution_count": null,
      "outputs": [
        {
          "output_type": "execute_result",
          "data": {
            "text/plain": [
              "[0, 0, 0, 0, 1, 1, 1, 1]"
            ]
          },
          "metadata": {},
          "execution_count": 21
        }
      ]
    },
    {
      "cell_type": "markdown",
      "metadata": {
        "id": "0c-LPWZ-BVsA"
      },
      "source": [
        "##5. Create list of lists"
      ]
    },
    {
      "cell_type": "markdown",
      "source": [
        "**traditional way**"
      ],
      "metadata": {
        "id": "ssJRw5IzK3Th"
      }
    },
    {
      "cell_type": "code",
      "metadata": {
        "id": "fgFDSaG3cqG0",
        "colab": {
          "base_uri": "https://localhost:8080/"
        },
        "outputId": "0c350a18-29f9-40a1-cdba-6853be229065"
      },
      "source": [
        "list_of_lists = []\n",
        "\n",
        "for num1 in range(4):\n",
        "  # Append an empty sublist inside the list\n",
        "  list_of_lists.append([])  # [[0]] , list_of_lists[1]\n",
        "\n",
        "  for num2 in range(3):\n",
        "    # Append the elements within the sublist\n",
        "    list_of_lists[num1].append(num2)  #list_of_lists[0]\n",
        "\n",
        "print(list_of_lists)"
      ],
      "execution_count": null,
      "outputs": [
        {
          "output_type": "stream",
          "text": [
            "[[0, 1, 2], [0, 1, 2], [0, 1, 2], [0, 1, 2]]\n"
          ],
          "name": "stdout"
        }
      ]
    },
    {
      "cell_type": "markdown",
      "source": [
        "**list comprehension**"
      ],
      "metadata": {
        "id": "SVu3LdJsK5aG"
      }
    },
    {
      "cell_type": "code",
      "metadata": {
        "id": "P3XeEpxgHnn_",
        "colab": {
          "base_uri": "https://localhost:8080/"
        },
        "outputId": "4a51f05d-6196-4134-cc36-d3ddc59004a1"
      },
      "source": [
        "[[num2 for num2 in range(3)] for num1 in range(4)]"
      ],
      "execution_count": null,
      "outputs": [
        {
          "output_type": "execute_result",
          "data": {
            "text/plain": [
              "[[0, 1, 2], [0, 1, 2], [0, 1, 2], [0, 1, 2]]"
            ]
          },
          "metadata": {},
          "execution_count": 22
        }
      ]
    },
    {
      "cell_type": "markdown",
      "metadata": {
        "id": "khxoqawIHnoN"
      },
      "source": [
        "##6. list comprehension to get a tuple"
      ]
    },
    {
      "cell_type": "code",
      "metadata": {
        "id": "r5BzV1ITHnoN"
      },
      "source": [
        "days = ('Monday' ,'Tuesday' ,'Wednesday' ,'Thursday' ,'Friday','Saturday','Sunday')"
      ],
      "execution_count": null,
      "outputs": []
    },
    {
      "cell_type": "code",
      "metadata": {
        "id": "erC-B9zUC1oH",
        "colab": {
          "base_uri": "https://localhost:8080/"
        },
        "outputId": "b9f6fce2-8df9-454a-d87f-2580413b90a7"
      },
      "source": [
        "# tuple where remove the word 'day'\n",
        "tuple([day[:-3] for day in days])"
      ],
      "execution_count": null,
      "outputs": [
        {
          "output_type": "execute_result",
          "data": {
            "text/plain": [
              "('Mon', 'Tues', 'Wednes', 'Thurs', 'Fri', 'Satur', 'Sun')"
            ]
          },
          "metadata": {},
          "execution_count": 25
        }
      ]
    },
    {
      "cell_type": "markdown",
      "metadata": {
        "id": "X28Nk-oADfT3"
      },
      "source": [
        "#2 Set Comprehension"
      ]
    },
    {
      "cell_type": "code",
      "metadata": {
        "id": "BXJBKstDC1ep",
        "colab": {
          "base_uri": "https://localhost:8080/"
        },
        "outputId": "70ac09a3-e01f-4e8e-ff83-f290257277f1"
      },
      "source": [
        "# Using a for loop\n",
        "first_letters = set()\n",
        "for word in \"set comprehension\":\n",
        "    first_letters.add(word[0])\n",
        "\n",
        "print(first_letters)"
      ],
      "execution_count": null,
      "outputs": [
        {
          "output_type": "stream",
          "name": "stdout",
          "text": [
            "{' ', 'r', 'e', 'c', 'n', 'i', 's', 'p', 'o', 'm', 't', 'h'}\n"
          ]
        }
      ]
    },
    {
      "cell_type": "code",
      "metadata": {
        "id": "9s_16JgPDtgY",
        "colab": {
          "base_uri": "https://localhost:8080/"
        },
        "outputId": "5450b177-a7b8-406f-b44d-468418b794cc"
      },
      "source": [
        "# Using set comprehension\n",
        "first_letters = {word[0] for word in \"set comprehension\"}\n",
        "print(first_letters)"
      ],
      "execution_count": null,
      "outputs": [
        {
          "output_type": "stream",
          "name": "stdout",
          "text": [
            "{' ', 'r', 'e', 'c', 'n', 'i', 's', 'p', 'o', 'm', 't', 'h'}\n"
          ]
        }
      ]
    },
    {
      "cell_type": "markdown",
      "metadata": {
        "id": "jtSP26DBEA7_"
      },
      "source": [
        "#3. Dictionary Comprehensions"
      ]
    },
    {
      "cell_type": "markdown",
      "source": [
        "##1. Create dictionary of number and square"
      ],
      "metadata": {
        "id": "Ufikiv3tMfke"
      }
    },
    {
      "cell_type": "code",
      "source": [
        "numbers=[23,31,12,4,12,5,21]"
      ],
      "metadata": {
        "id": "JKZzaq_kMoyL"
      },
      "execution_count": null,
      "outputs": []
    },
    {
      "cell_type": "code",
      "source": [
        "num_sq={number:number**2 for number in numbers}\n",
        "print(num_sq)"
      ],
      "metadata": {
        "colab": {
          "base_uri": "https://localhost:8080/"
        },
        "id": "I6pjaj8RMz-r",
        "outputId": "6d6c70ee-2ebe-4c74-b0a7-cdd802b5b465"
      },
      "execution_count": null,
      "outputs": [
        {
          "output_type": "stream",
          "name": "stdout",
          "text": [
            "{23: 529, 31: 961, 12: 144, 4: 16, 5: 25, 21: 441}\n"
          ]
        }
      ]
    },
    {
      "cell_type": "markdown",
      "metadata": {
        "id": "DQ1K_CpZEavr"
      },
      "source": [
        "##2. swap keys and values"
      ]
    },
    {
      "cell_type": "code",
      "source": [
        "{j:i for i,j in num_sq.items()}"
      ],
      "metadata": {
        "colab": {
          "base_uri": "https://localhost:8080/"
        },
        "id": "7AErWImjN4HV",
        "outputId": "a33829e4-d16e-4a14-8557-c075883e2f0b"
      },
      "execution_count": null,
      "outputs": [
        {
          "output_type": "execute_result",
          "data": {
            "text/plain": [
              "{529: 23, 961: 31, 144: 12, 16: 4, 25: 5, 441: 21}"
            ]
          },
          "metadata": {},
          "execution_count": 33
        }
      ]
    },
    {
      "cell_type": "markdown",
      "source": [
        "##3. form square substract 100"
      ],
      "metadata": {
        "id": "ZPkypYL6Ozg8"
      }
    },
    {
      "cell_type": "code",
      "source": [
        "{i:j-100 for i,j in num_sq.items()}"
      ],
      "metadata": {
        "colab": {
          "base_uri": "https://localhost:8080/"
        },
        "id": "toaKtWSSPFxv",
        "outputId": "8a158f1b-876a-4927-d445-f702964cc9ac"
      },
      "execution_count": null,
      "outputs": [
        {
          "output_type": "execute_result",
          "data": {
            "text/plain": [
              "{23: 429, 31: 861, 12: 44, 4: -84, 5: -75, 21: 341}"
            ]
          },
          "metadata": {},
          "execution_count": 35
        }
      ]
    }
  ]
}